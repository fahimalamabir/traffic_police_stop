{
 "cells": [
  {
   "cell_type": "markdown",
   "metadata": {},
   "source": [
    "# Traffic stops by Police in San Diego\n",
    "\n",
    "We use Stanford Open Policing Project dataset to find out Traffic stops by Police officers in <a href =\"https://stacks.stanford.edu/file/druid:yg821jf8611/yg821jf8611_ca_san_diego_2020_04_01.csv.zip\">San Diego </a>. To analysis the dataset, we need to prepare the data.\n",
    "\n",
    "\n",
    "#### Data Pre-Processing"
   ]
  },
  {
   "cell_type": "code",
   "execution_count": 1,
   "metadata": {},
   "outputs": [
    {
     "data": {
      "text/html": [
       "<div>\n",
       "<style scoped>\n",
       "    .dataframe tbody tr th:only-of-type {\n",
       "        vertical-align: middle;\n",
       "    }\n",
       "\n",
       "    .dataframe tbody tr th {\n",
       "        vertical-align: top;\n",
       "    }\n",
       "\n",
       "    .dataframe thead th {\n",
       "        text-align: right;\n",
       "    }\n",
       "</style>\n",
       "<table border=\"1\" class=\"dataframe\">\n",
       "  <thead>\n",
       "    <tr style=\"text-align: right;\">\n",
       "      <th></th>\n",
       "      <th>raw_row_number</th>\n",
       "      <th>date</th>\n",
       "      <th>time</th>\n",
       "      <th>service_area</th>\n",
       "      <th>subject_age</th>\n",
       "      <th>subject_race</th>\n",
       "      <th>subject_sex</th>\n",
       "      <th>type</th>\n",
       "      <th>arrest_made</th>\n",
       "      <th>citation_issued</th>\n",
       "      <th>...</th>\n",
       "      <th>outcome</th>\n",
       "      <th>contraband_found</th>\n",
       "      <th>search_conducted</th>\n",
       "      <th>search_person</th>\n",
       "      <th>search_vehicle</th>\n",
       "      <th>search_basis</th>\n",
       "      <th>reason_for_search</th>\n",
       "      <th>reason_for_stop</th>\n",
       "      <th>raw_action_taken</th>\n",
       "      <th>raw_subject_race_description</th>\n",
       "    </tr>\n",
       "  </thead>\n",
       "  <tbody>\n",
       "    <tr>\n",
       "      <th>0</th>\n",
       "      <td>1</td>\n",
       "      <td>2014-01-01</td>\n",
       "      <td>01:25:00</td>\n",
       "      <td>110</td>\n",
       "      <td>24.0</td>\n",
       "      <td>white</td>\n",
       "      <td>male</td>\n",
       "      <td>vehicular</td>\n",
       "      <td>False</td>\n",
       "      <td>True</td>\n",
       "      <td>...</td>\n",
       "      <td>citation</td>\n",
       "      <td>NaN</td>\n",
       "      <td>False</td>\n",
       "      <td>False</td>\n",
       "      <td>False</td>\n",
       "      <td>NaN</td>\n",
       "      <td>NaN</td>\n",
       "      <td>Moving Violation</td>\n",
       "      <td>Citation</td>\n",
       "      <td>WHITE</td>\n",
       "    </tr>\n",
       "    <tr>\n",
       "      <th>1</th>\n",
       "      <td>2</td>\n",
       "      <td>2014-01-01</td>\n",
       "      <td>05:47:00</td>\n",
       "      <td>320</td>\n",
       "      <td>42.0</td>\n",
       "      <td>white</td>\n",
       "      <td>male</td>\n",
       "      <td>vehicular</td>\n",
       "      <td>False</td>\n",
       "      <td>False</td>\n",
       "      <td>...</td>\n",
       "      <td>warning</td>\n",
       "      <td>NaN</td>\n",
       "      <td>False</td>\n",
       "      <td>False</td>\n",
       "      <td>False</td>\n",
       "      <td>NaN</td>\n",
       "      <td>NaN</td>\n",
       "      <td>Moving Violation</td>\n",
       "      <td>Verbal Warning</td>\n",
       "      <td>WHITE</td>\n",
       "    </tr>\n",
       "  </tbody>\n",
       "</table>\n",
       "<p>2 rows × 21 columns</p>\n",
       "</div>"
      ],
      "text/plain": [
       "  raw_row_number        date      time service_area  subject_age subject_race  \\\n",
       "0              1  2014-01-01  01:25:00          110         24.0        white   \n",
       "1              2  2014-01-01  05:47:00          320         42.0        white   \n",
       "\n",
       "  subject_sex       type arrest_made citation_issued  ...   outcome  \\\n",
       "0        male  vehicular       False            True  ...  citation   \n",
       "1        male  vehicular       False           False  ...   warning   \n",
       "\n",
       "  contraband_found search_conducted  search_person search_vehicle  \\\n",
       "0              NaN            False          False          False   \n",
       "1              NaN            False          False          False   \n",
       "\n",
       "  search_basis reason_for_search   reason_for_stop raw_action_taken  \\\n",
       "0          NaN               NaN  Moving Violation         Citation   \n",
       "1          NaN               NaN  Moving Violation   Verbal Warning   \n",
       "\n",
       "  raw_subject_race_description  \n",
       "0                        WHITE  \n",
       "1                        WHITE  \n",
       "\n",
       "[2 rows x 21 columns]"
      ]
     },
     "execution_count": 1,
     "metadata": {},
     "output_type": "execute_result"
    }
   ],
   "source": [
    "import pandas as pd\n",
    "df = pd.read_csv('ca_san_diego_2020_04_01.csv')\n",
    "df.head(2)"
   ]
  },
  {
   "cell_type": "code",
   "execution_count": 2,
   "metadata": {},
   "outputs": [
    {
     "data": {
      "text/plain": [
       "raw_row_number                       0\n",
       "date                               183\n",
       "time                               735\n",
       "service_area                         0\n",
       "subject_age                      11963\n",
       "subject_race                      1234\n",
       "subject_sex                        661\n",
       "type                                 0\n",
       "arrest_made                      34743\n",
       "citation_issued                  31971\n",
       "warning_issued                   31971\n",
       "outcome                          39172\n",
       "contraband_found                366739\n",
       "search_conducted                     0\n",
       "search_person                     2190\n",
       "search_vehicle                    2190\n",
       "search_basis                    366739\n",
       "reason_for_search               368749\n",
       "reason_for_stop                    219\n",
       "raw_action_taken                 31971\n",
       "raw_subject_race_description      1234\n",
       "dtype: int64"
      ]
     },
     "execution_count": 2,
     "metadata": {},
     "output_type": "execute_result"
    }
   ],
   "source": [
    "df.isnull().sum()"
   ]
  },
  {
   "cell_type": "code",
   "execution_count": 3,
   "metadata": {},
   "outputs": [],
   "source": [
    "df.drop(['contraband_found','search_basis','reason_for_search','raw_subject_race_description'],axis = 'columns',inplace = True)"
   ]
  },
  {
   "cell_type": "code",
   "execution_count": 4,
   "metadata": {},
   "outputs": [
    {
     "data": {
      "text/html": [
       "<div>\n",
       "<style scoped>\n",
       "    .dataframe tbody tr th:only-of-type {\n",
       "        vertical-align: middle;\n",
       "    }\n",
       "\n",
       "    .dataframe tbody tr th {\n",
       "        vertical-align: top;\n",
       "    }\n",
       "\n",
       "    .dataframe thead th {\n",
       "        text-align: right;\n",
       "    }\n",
       "</style>\n",
       "<table border=\"1\" class=\"dataframe\">\n",
       "  <thead>\n",
       "    <tr style=\"text-align: right;\">\n",
       "      <th></th>\n",
       "      <th>raw_row_number</th>\n",
       "      <th>date</th>\n",
       "      <th>time</th>\n",
       "      <th>service_area</th>\n",
       "      <th>subject_age</th>\n",
       "      <th>subject_race</th>\n",
       "      <th>subject_sex</th>\n",
       "      <th>type</th>\n",
       "      <th>arrest_made</th>\n",
       "      <th>citation_issued</th>\n",
       "      <th>warning_issued</th>\n",
       "      <th>outcome</th>\n",
       "      <th>search_conducted</th>\n",
       "      <th>search_person</th>\n",
       "      <th>search_vehicle</th>\n",
       "      <th>reason_for_stop</th>\n",
       "      <th>raw_action_taken</th>\n",
       "    </tr>\n",
       "  </thead>\n",
       "  <tbody>\n",
       "    <tr>\n",
       "      <th>0</th>\n",
       "      <td>1</td>\n",
       "      <td>2014-01-01</td>\n",
       "      <td>01:25:00</td>\n",
       "      <td>110</td>\n",
       "      <td>24.0</td>\n",
       "      <td>white</td>\n",
       "      <td>male</td>\n",
       "      <td>vehicular</td>\n",
       "      <td>False</td>\n",
       "      <td>True</td>\n",
       "      <td>False</td>\n",
       "      <td>citation</td>\n",
       "      <td>False</td>\n",
       "      <td>False</td>\n",
       "      <td>False</td>\n",
       "      <td>Moving Violation</td>\n",
       "      <td>Citation</td>\n",
       "    </tr>\n",
       "    <tr>\n",
       "      <th>1</th>\n",
       "      <td>2</td>\n",
       "      <td>2014-01-01</td>\n",
       "      <td>05:47:00</td>\n",
       "      <td>320</td>\n",
       "      <td>42.0</td>\n",
       "      <td>white</td>\n",
       "      <td>male</td>\n",
       "      <td>vehicular</td>\n",
       "      <td>False</td>\n",
       "      <td>False</td>\n",
       "      <td>True</td>\n",
       "      <td>warning</td>\n",
       "      <td>False</td>\n",
       "      <td>False</td>\n",
       "      <td>False</td>\n",
       "      <td>Moving Violation</td>\n",
       "      <td>Verbal Warning</td>\n",
       "    </tr>\n",
       "  </tbody>\n",
       "</table>\n",
       "</div>"
      ],
      "text/plain": [
       "  raw_row_number        date      time service_area  subject_age subject_race  \\\n",
       "0              1  2014-01-01  01:25:00          110         24.0        white   \n",
       "1              2  2014-01-01  05:47:00          320         42.0        white   \n",
       "\n",
       "  subject_sex       type arrest_made citation_issued warning_issued   outcome  \\\n",
       "0        male  vehicular       False            True          False  citation   \n",
       "1        male  vehicular       False           False           True   warning   \n",
       "\n",
       "   search_conducted search_person search_vehicle   reason_for_stop  \\\n",
       "0             False         False          False  Moving Violation   \n",
       "1             False         False          False  Moving Violation   \n",
       "\n",
       "  raw_action_taken  \n",
       "0         Citation  \n",
       "1   Verbal Warning  "
      ]
     },
     "execution_count": 4,
     "metadata": {},
     "output_type": "execute_result"
    }
   ],
   "source": [
    "df.head(2)"
   ]
  },
  {
   "cell_type": "code",
   "execution_count": 5,
   "metadata": {},
   "outputs": [],
   "source": [
    "df.dropna(subset = ['date','time','subject_age','subject_race','subject_sex','arrest_made','citation_issued','warning_issued','outcome','search_person','search_vehicle','reason_for_stop','raw_action_taken'\n",
    "],inplace = True)"
   ]
  },
  {
   "cell_type": "markdown",
   "metadata": {},
   "source": [
    "We have cleaned the data that we dont need for our analysis. Now we study our data types."
   ]
  },
  {
   "cell_type": "code",
   "execution_count": 6,
   "metadata": {},
   "outputs": [
    {
     "data": {
      "text/plain": [
       "raw_row_number       object\n",
       "date                 object\n",
       "time                 object\n",
       "service_area         object\n",
       "subject_age         float64\n",
       "subject_race         object\n",
       "subject_sex          object\n",
       "type                 object\n",
       "arrest_made          object\n",
       "citation_issued      object\n",
       "warning_issued       object\n",
       "outcome              object\n",
       "search_conducted       bool\n",
       "search_person        object\n",
       "search_vehicle       object\n",
       "reason_for_stop      object\n",
       "raw_action_taken     object\n",
       "dtype: object"
      ]
     },
     "execution_count": 6,
     "metadata": {},
     "output_type": "execute_result"
    }
   ],
   "source": [
    "df.dtypes"
   ]
  },
  {
   "cell_type": "markdown",
   "metadata": {},
   "source": [
    "The time and date are object type which need to be fixed. We propose keeping the both column as one column."
   ]
  },
  {
   "cell_type": "code",
   "execution_count": 7,
   "metadata": {},
   "outputs": [],
   "source": [
    "# Concatenate 'date' and 'time' (separated by a space)\n",
    "combined = df.date.str.cat(df.time, sep=' ')"
   ]
  },
  {
   "cell_type": "code",
   "execution_count": 8,
   "metadata": {},
   "outputs": [],
   "source": [
    "# Convert 'combined' to datetime format\n",
    "df['date'] = pd.to_datetime(combined)"
   ]
  },
  {
   "cell_type": "code",
   "execution_count": 9,
   "metadata": {},
   "outputs": [
    {
     "data": {
      "text/html": [
       "<div>\n",
       "<style scoped>\n",
       "    .dataframe tbody tr th:only-of-type {\n",
       "        vertical-align: middle;\n",
       "    }\n",
       "\n",
       "    .dataframe tbody tr th {\n",
       "        vertical-align: top;\n",
       "    }\n",
       "\n",
       "    .dataframe thead th {\n",
       "        text-align: right;\n",
       "    }\n",
       "</style>\n",
       "<table border=\"1\" class=\"dataframe\">\n",
       "  <thead>\n",
       "    <tr style=\"text-align: right;\">\n",
       "      <th></th>\n",
       "      <th>raw_row_number</th>\n",
       "      <th>date</th>\n",
       "      <th>time</th>\n",
       "      <th>service_area</th>\n",
       "      <th>subject_age</th>\n",
       "      <th>subject_race</th>\n",
       "      <th>subject_sex</th>\n",
       "      <th>type</th>\n",
       "      <th>arrest_made</th>\n",
       "      <th>citation_issued</th>\n",
       "      <th>warning_issued</th>\n",
       "      <th>outcome</th>\n",
       "      <th>search_conducted</th>\n",
       "      <th>search_person</th>\n",
       "      <th>search_vehicle</th>\n",
       "      <th>reason_for_stop</th>\n",
       "      <th>raw_action_taken</th>\n",
       "    </tr>\n",
       "  </thead>\n",
       "  <tbody>\n",
       "    <tr>\n",
       "      <th>0</th>\n",
       "      <td>1</td>\n",
       "      <td>2014-01-01 01:25:00</td>\n",
       "      <td>01:25:00</td>\n",
       "      <td>110</td>\n",
       "      <td>24.0</td>\n",
       "      <td>white</td>\n",
       "      <td>male</td>\n",
       "      <td>vehicular</td>\n",
       "      <td>False</td>\n",
       "      <td>True</td>\n",
       "      <td>False</td>\n",
       "      <td>citation</td>\n",
       "      <td>False</td>\n",
       "      <td>False</td>\n",
       "      <td>False</td>\n",
       "      <td>Moving Violation</td>\n",
       "      <td>Citation</td>\n",
       "    </tr>\n",
       "    <tr>\n",
       "      <th>1</th>\n",
       "      <td>2</td>\n",
       "      <td>2014-01-01 05:47:00</td>\n",
       "      <td>05:47:00</td>\n",
       "      <td>320</td>\n",
       "      <td>42.0</td>\n",
       "      <td>white</td>\n",
       "      <td>male</td>\n",
       "      <td>vehicular</td>\n",
       "      <td>False</td>\n",
       "      <td>False</td>\n",
       "      <td>True</td>\n",
       "      <td>warning</td>\n",
       "      <td>False</td>\n",
       "      <td>False</td>\n",
       "      <td>False</td>\n",
       "      <td>Moving Violation</td>\n",
       "      <td>Verbal Warning</td>\n",
       "    </tr>\n",
       "  </tbody>\n",
       "</table>\n",
       "</div>"
      ],
      "text/plain": [
       "  raw_row_number                date      time service_area  subject_age  \\\n",
       "0              1 2014-01-01 01:25:00  01:25:00          110         24.0   \n",
       "1              2 2014-01-01 05:47:00  05:47:00          320         42.0   \n",
       "\n",
       "  subject_race subject_sex       type arrest_made citation_issued  \\\n",
       "0        white        male  vehicular       False            True   \n",
       "1        white        male  vehicular       False           False   \n",
       "\n",
       "  warning_issued   outcome  search_conducted search_person search_vehicle  \\\n",
       "0          False  citation             False         False          False   \n",
       "1           True   warning             False         False          False   \n",
       "\n",
       "    reason_for_stop raw_action_taken  \n",
       "0  Moving Violation         Citation  \n",
       "1  Moving Violation   Verbal Warning  "
      ]
     },
     "execution_count": 9,
     "metadata": {},
     "output_type": "execute_result"
    }
   ],
   "source": [
    "df.head(2)"
   ]
  },
  {
   "cell_type": "code",
   "execution_count": 10,
   "metadata": {},
   "outputs": [],
   "source": [
    "df.drop('time',axis = 'columns',inplace = True)"
   ]
  },
  {
   "cell_type": "code",
   "execution_count": 11,
   "metadata": {},
   "outputs": [
    {
     "data": {
      "text/plain": [
       "Index(['raw_row_number', 'date', 'service_area', 'subject_age', 'subject_race',\n",
       "       'subject_sex', 'type', 'arrest_made', 'citation_issued',\n",
       "       'warning_issued', 'outcome', 'search_conducted', 'search_person',\n",
       "       'search_vehicle', 'reason_for_stop', 'raw_action_taken'],\n",
       "      dtype='object')"
      ]
     },
     "execution_count": 11,
     "metadata": {},
     "output_type": "execute_result"
    }
   ],
   "source": [
    "df.columns"
   ]
  },
  {
   "cell_type": "markdown",
   "metadata": {},
   "source": [
    "Also the columns arrest_made,citation_issued, warning_issued,search_conducted,search_person,search_vehicle should be boolean."
   ]
  },
  {
   "cell_type": "code",
   "execution_count": 12,
   "metadata": {},
   "outputs": [],
   "source": [
    "df['arrest_made']=df.arrest_made.astype(bool)\n",
    "df['citation_issued']=df.citation_issued.astype(bool) \n",
    "df['warning_issued']=df.warning_issued.astype(bool) \n",
    "df['search_conducted']=df.search_conducted.astype(bool) \n",
    "df['search_person']=df.search_person.astype(bool) \n",
    "df['search_vehicle']=df.search_vehicle.astype(bool) "
   ]
  },
  {
   "cell_type": "code",
   "execution_count": 13,
   "metadata": {},
   "outputs": [
    {
     "data": {
      "text/plain": [
       "raw_row_number              object\n",
       "date                datetime64[ns]\n",
       "service_area                object\n",
       "subject_age                float64\n",
       "subject_race                object\n",
       "subject_sex                 object\n",
       "type                        object\n",
       "arrest_made                   bool\n",
       "citation_issued               bool\n",
       "warning_issued                bool\n",
       "outcome                     object\n",
       "search_conducted              bool\n",
       "search_person                 bool\n",
       "search_vehicle                bool\n",
       "reason_for_stop             object\n",
       "raw_action_taken            object\n",
       "dtype: object"
      ]
     },
     "execution_count": 13,
     "metadata": {},
     "output_type": "execute_result"
    }
   ],
   "source": [
    "df.dtypes"
   ]
  },
  {
   "cell_type": "markdown",
   "metadata": {},
   "source": [
    "To get the accuate date and time of arrests made, we can set time and date as index of the dataframe."
   ]
  },
  {
   "cell_type": "code",
   "execution_count": 14,
   "metadata": {},
   "outputs": [],
   "source": [
    "df.set_index('date',inplace= True)"
   ]
  },
  {
   "cell_type": "code",
   "execution_count": 16,
   "metadata": {},
   "outputs": [
    {
     "data": {
      "text/html": [
       "<div>\n",
       "<style scoped>\n",
       "    .dataframe tbody tr th:only-of-type {\n",
       "        vertical-align: middle;\n",
       "    }\n",
       "\n",
       "    .dataframe tbody tr th {\n",
       "        vertical-align: top;\n",
       "    }\n",
       "\n",
       "    .dataframe thead th {\n",
       "        text-align: right;\n",
       "    }\n",
       "</style>\n",
       "<table border=\"1\" class=\"dataframe\">\n",
       "  <thead>\n",
       "    <tr style=\"text-align: right;\">\n",
       "      <th></th>\n",
       "      <th>raw_row_number</th>\n",
       "      <th>service_area</th>\n",
       "      <th>subject_age</th>\n",
       "      <th>subject_race</th>\n",
       "      <th>subject_sex</th>\n",
       "      <th>type</th>\n",
       "      <th>arrest_made</th>\n",
       "      <th>citation_issued</th>\n",
       "      <th>warning_issued</th>\n",
       "      <th>outcome</th>\n",
       "      <th>search_conducted</th>\n",
       "      <th>search_person</th>\n",
       "      <th>search_vehicle</th>\n",
       "      <th>reason_for_stop</th>\n",
       "      <th>raw_action_taken</th>\n",
       "    </tr>\n",
       "    <tr>\n",
       "      <th>date</th>\n",
       "      <th></th>\n",
       "      <th></th>\n",
       "      <th></th>\n",
       "      <th></th>\n",
       "      <th></th>\n",
       "      <th></th>\n",
       "      <th></th>\n",
       "      <th></th>\n",
       "      <th></th>\n",
       "      <th></th>\n",
       "      <th></th>\n",
       "      <th></th>\n",
       "      <th></th>\n",
       "      <th></th>\n",
       "      <th></th>\n",
       "    </tr>\n",
       "  </thead>\n",
       "  <tbody>\n",
       "    <tr>\n",
       "      <th>2014-01-01 01:25:00</th>\n",
       "      <td>1</td>\n",
       "      <td>110</td>\n",
       "      <td>24.0</td>\n",
       "      <td>white</td>\n",
       "      <td>male</td>\n",
       "      <td>vehicular</td>\n",
       "      <td>False</td>\n",
       "      <td>True</td>\n",
       "      <td>False</td>\n",
       "      <td>citation</td>\n",
       "      <td>False</td>\n",
       "      <td>False</td>\n",
       "      <td>False</td>\n",
       "      <td>Moving Violation</td>\n",
       "      <td>Citation</td>\n",
       "    </tr>\n",
       "    <tr>\n",
       "      <th>2014-01-01 05:47:00</th>\n",
       "      <td>2</td>\n",
       "      <td>320</td>\n",
       "      <td>42.0</td>\n",
       "      <td>white</td>\n",
       "      <td>male</td>\n",
       "      <td>vehicular</td>\n",
       "      <td>False</td>\n",
       "      <td>False</td>\n",
       "      <td>True</td>\n",
       "      <td>warning</td>\n",
       "      <td>False</td>\n",
       "      <td>False</td>\n",
       "      <td>False</td>\n",
       "      <td>Moving Violation</td>\n",
       "      <td>Verbal Warning</td>\n",
       "    </tr>\n",
       "  </tbody>\n",
       "</table>\n",
       "</div>"
      ],
      "text/plain": [
       "                    raw_row_number service_area  subject_age subject_race  \\\n",
       "date                                                                        \n",
       "2014-01-01 01:25:00              1          110         24.0        white   \n",
       "2014-01-01 05:47:00              2          320         42.0        white   \n",
       "\n",
       "                    subject_sex       type  arrest_made  citation_issued  \\\n",
       "date                                                                       \n",
       "2014-01-01 01:25:00        male  vehicular        False             True   \n",
       "2014-01-01 05:47:00        male  vehicular        False            False   \n",
       "\n",
       "                     warning_issued   outcome  search_conducted  \\\n",
       "date                                                              \n",
       "2014-01-01 01:25:00           False  citation             False   \n",
       "2014-01-01 05:47:00            True   warning             False   \n",
       "\n",
       "                     search_person  search_vehicle   reason_for_stop  \\\n",
       "date                                                                   \n",
       "2014-01-01 01:25:00          False           False  Moving Violation   \n",
       "2014-01-01 05:47:00          False           False  Moving Violation   \n",
       "\n",
       "                    raw_action_taken  \n",
       "date                                  \n",
       "2014-01-01 01:25:00         Citation  \n",
       "2014-01-01 05:47:00   Verbal Warning  "
      ]
     },
     "execution_count": 16,
     "metadata": {},
     "output_type": "execute_result"
    }
   ],
   "source": [
    "df.head(2)"
   ]
  },
  {
   "cell_type": "markdown",
   "metadata": {},
   "source": [
    "#### Outcome type\n"
   ]
  },
  {
   "cell_type": "code",
   "execution_count": 19,
   "metadata": {},
   "outputs": [
    {
     "data": {
      "text/plain": [
       "citation    200207\n",
       "warning     109115\n",
       "arrest        3676\n",
       "Name: outcome, dtype: int64"
      ]
     },
     "execution_count": 19,
     "metadata": {},
     "output_type": "execute_result"
    }
   ],
   "source": [
    "df.outcome.value_counts()"
   ]
  },
  {
   "cell_type": "code",
   "execution_count": 20,
   "metadata": {},
   "outputs": [
    {
     "data": {
      "text/plain": [
       "312998"
      ]
     },
     "execution_count": 20,
     "metadata": {},
     "output_type": "execute_result"
    }
   ],
   "source": [
    "df.outcome.value_counts().sum()"
   ]
  },
  {
   "cell_type": "markdown",
   "metadata": {},
   "source": [
    "So, we have three categories and the total number should match with our data size."
   ]
  },
  {
   "cell_type": "code",
   "execution_count": 21,
   "metadata": {},
   "outputs": [
    {
     "data": {
      "text/plain": [
       "(312998, 15)"
      ]
     },
     "execution_count": 21,
     "metadata": {},
     "output_type": "execute_result"
    }
   ],
   "source": [
    "df.shape"
   ]
  },
  {
   "cell_type": "code",
   "execution_count": 22,
   "metadata": {},
   "outputs": [
    {
     "data": {
      "text/plain": [
       "citation    0.639643\n",
       "warning     0.348612\n",
       "arrest      0.011744\n",
       "Name: outcome, dtype: float64"
      ]
     },
     "execution_count": 22,
     "metadata": {},
     "output_type": "execute_result"
    }
   ],
   "source": [
    "df.outcome.value_counts(normalize = True)"
   ]
  },
  {
   "cell_type": "markdown",
   "metadata": {},
   "source": [
    "Overall, \n",
    "\n",
    "\n",
    "| Outcome type | Percentage |\n",
    "| --- | --- |\n",
    "| Citation | 64% |\n",
    "| Warning     | 35% |\n",
    "| Arrest    | 1% |"
   ]
  },
  {
   "cell_type": "markdown",
   "metadata": {},
   "source": [
    "#### Race based studies"
   ]
  },
  {
   "cell_type": "code",
   "execution_count": 23,
   "metadata": {},
   "outputs": [
    {
     "data": {
      "text/plain": [
       "white                     134510\n",
       "hispanic                   94250\n",
       "black                      34470\n",
       "asian/pacific islander     27667\n",
       "other                      22101\n",
       "Name: subject_race, dtype: int64"
      ]
     },
     "execution_count": 23,
     "metadata": {},
     "output_type": "execute_result"
    }
   ],
   "source": [
    "df.subject_race.value_counts()"
   ]
  },
  {
   "cell_type": "code",
   "execution_count": 30,
   "metadata": {},
   "outputs": [],
   "source": [
    "white  = df[df.subject_race =='white']\n",
    "hispanic  = df[df.subject_race =='hispanic']\n",
    "black  = df[df.subject_race =='black']\n",
    "misc  = df[df.subject_race =='asian/pacific islander']\n",
    "other  = df[df.subject_race =='other']"
   ]
  },
  {
   "cell_type": "markdown",
   "metadata": {},
   "source": [
    "We will try to find how many people were cited,arrested or warned comparing the race."
   ]
  },
  {
   "cell_type": "code",
   "execution_count": 27,
   "metadata": {},
   "outputs": [
    {
     "data": {
      "text/plain": [
       "citation    0.649952\n",
       "warning     0.340294\n",
       "arrest      0.009754\n",
       "Name: outcome, dtype: float64"
      ]
     },
     "execution_count": 27,
     "metadata": {},
     "output_type": "execute_result"
    }
   ],
   "source": [
    "white.outcome.value_counts(normalize = True)"
   ]
  },
  {
   "cell_type": "code",
   "execution_count": 33,
   "metadata": {},
   "outputs": [
    {
     "data": {
      "text/plain": [
       "citation    0.537975\n",
       "warning     0.442443\n",
       "arrest      0.019582\n",
       "Name: outcome, dtype: float64"
      ]
     },
     "execution_count": 33,
     "metadata": {},
     "output_type": "execute_result"
    }
   ],
   "source": [
    "black.outcome.value_counts(normalize = True)"
   ]
  },
  {
   "cell_type": "code",
   "execution_count": 28,
   "metadata": {},
   "outputs": [
    {
     "data": {
      "text/plain": [
       "citation    0.660085\n",
       "warning     0.325825\n",
       "arrest      0.014090\n",
       "Name: outcome, dtype: float64"
      ]
     },
     "execution_count": 28,
     "metadata": {},
     "output_type": "execute_result"
    }
   ],
   "source": [
    "hispanic.outcome.value_counts(normalize = True)"
   ]
  },
  {
   "cell_type": "code",
   "execution_count": 31,
   "metadata": {},
   "outputs": [
    {
     "data": {
      "text/plain": [
       "citation    0.595511\n",
       "warning     0.395815\n",
       "arrest      0.008675\n",
       "Name: outcome, dtype: float64"
      ]
     },
     "execution_count": 31,
     "metadata": {},
     "output_type": "execute_result"
    }
   ],
   "source": [
    "misc.outcome.value_counts(normalize = True)"
   ]
  },
  {
   "cell_type": "code",
   "execution_count": 32,
   "metadata": {},
   "outputs": [
    {
     "data": {
      "text/plain": [
       "citation    0.703543\n",
       "warning     0.290982\n",
       "arrest      0.005475\n",
       "Name: outcome, dtype: float64"
      ]
     },
     "execution_count": 32,
     "metadata": {},
     "output_type": "execute_result"
    }
   ],
   "source": [
    "other.outcome.value_counts(normalize = True)"
   ]
  },
  {
   "cell_type": "markdown",
   "metadata": {},
   "source": [
    "SO, overall,\n",
    "\n",
    "|Race| Outcome type | Percentage |\n",
    "| --- | --- |---|\n",
    "| White|Citation | 65% |\n",
    "| White|Warning     | 34.09% |\n",
    "| White|Arrest    | 0.01% |\n",
    "| Black|Citation | 53% |\n",
    "| Black|Warning     | 44% |\n",
    "| Black|Arrest    | 2% |\n",
    "| Asian|Citation | 59% |\n",
    "| Asian|Warning     | 40% |\n",
    "| Asian|Arrest    |1% |\n",
    "| Hispanic|Citation | 66% |\n",
    "| Hispanic|Warning     | 33.09% |\n",
    "| Hispanic|Arrest    | 1% |\n",
    " Other|Citation | 70% |\n",
    "| Other|Warning     | 29.09% |\n",
    "| Other|Arrest    | 0.01% |"
   ]
  },
  {
   "cell_type": "markdown",
   "metadata": {},
   "source": [
    "#### Arrest and Gender\n",
    "Does gender affect in arresting?"
   ]
  },
  {
   "cell_type": "code",
   "execution_count": 36,
   "metadata": {},
   "outputs": [],
   "source": [
    "female_arrested = df[(df.subject_sex=='female')& (df.arrest_made== True)]"
   ]
  },
  {
   "cell_type": "code",
   "execution_count": 40,
   "metadata": {},
   "outputs": [
    {
     "data": {
      "text/plain": [
       "(797, 15)"
      ]
     },
     "execution_count": 40,
     "metadata": {},
     "output_type": "execute_result"
    }
   ],
   "source": [
    "female_arrested.shape #only female who were arrested"
   ]
  },
  {
   "cell_type": "code",
   "execution_count": 41,
   "metadata": {},
   "outputs": [
    {
     "data": {
      "text/plain": [
       "(113298, 15)"
      ]
     },
     "execution_count": 41,
     "metadata": {},
     "output_type": "execute_result"
    }
   ],
   "source": [
    "female_or_arrested = df[(df.subject_sex=='female')| (df.arrest_made== True)]\n",
    "female_or_arrested.shape"
   ]
  },
  {
   "cell_type": "code",
   "execution_count": 42,
   "metadata": {},
   "outputs": [
    {
     "data": {
      "text/plain": [
       "(2879, 15)"
      ]
     },
     "execution_count": 42,
     "metadata": {},
     "output_type": "execute_result"
    }
   ],
   "source": [
    "male_arrested = df[(df.subject_sex=='male')& (df.arrest_made== True)]\n",
    "male_arrested.shape #only male who were arrested"
   ]
  },
  {
   "cell_type": "markdown",
   "metadata": {},
   "source": [
    "SO, more male were arrested than female."
   ]
  },
  {
   "cell_type": "markdown",
   "metadata": {},
   "source": [
    "#### Reeasons behind stopping the subject\n"
   ]
  },
  {
   "cell_type": "code",
   "execution_count": 43,
   "metadata": {},
   "outputs": [
    {
     "data": {
      "text/plain": [
       "array(['Moving Violation', 'Equipment Violation', 'Other',\n",
       "       'Muni, County, H&S Code', 'UNI, &County, H&&S Code',\n",
       "       'Radio Call/Citizen Contact', 'Personal Knowledge/Informant',\n",
       "       'Suspect Info (I.S., Bulletin, Log)',\n",
       "       'Moving Violation|Equipment Violation',\n",
       "       'Equipment Violation|Moving Violation',\n",
       "       'Radio Call/Citizen Contact|Moving Violation',\n",
       "       'Equipment Violation|Equipment Violation|Moving Violation',\n",
       "       '&Moving Violation|Moving Violation', '&Moving Violation',\n",
       "       'Moving Violation|Muni, County, H&S Code',\n",
       "       'Personal Observ/Knowledge', 'Suspect Info', 'Moving Violation|NA',\n",
       "       'Equipment Violation|Radio Call/Citizen Contact',\n",
       "       'NA|Equipment Violation',\n",
       "       'Moving Violation|Radio Call/Citizen Contact',\n",
       "       'Equipment Violation|NA', '&Equipment Violation',\n",
       "       '&Radio Call/Citizen Contact', 'NA|Moving Violation',\n",
       "       'Moving Violation|Equipment Violation|Equipment Violation',\n",
       "       'Muni, County, H&S Code|Moving Violation',\n",
       "       'Personal Knowledge/Informant|Moving Violation',\n",
       "       'No Cause Specified on a Card',\n",
       "       'Moving Violation|Suspect Info (I.S., Bulletin, Log)',\n",
       "       'No Cause Specified on a Card|Moving Violation',\n",
       "       'Moving Violation|No Cause Specified on a Card', 'NOT SPECIFIED',\n",
       "       'not marked  not marked', 'not marked', 'NOT MARKED',\n",
       "       'not marked|Equipment Violation', 'none listed',\n",
       "       'MUNI, County, H&S Code', 'not noted',\n",
       "       'No Cause Specified on a Card|Equipment Violation', 'not listed',\n",
       "       'Moving Violation|Personal Knowledge/Informant',\n",
       "       'Equipment Violation|Suspect Info (I.S., Bulletin, Log)',\n",
       "       'Moving Violation|Personal Observ/Knowledge'], dtype=object)"
      ]
     },
     "execution_count": 43,
     "metadata": {},
     "output_type": "execute_result"
    }
   ],
   "source": [
    "df.reason_for_stop.unique()"
   ]
  },
  {
   "cell_type": "code",
   "execution_count": 47,
   "metadata": {},
   "outputs": [],
   "source": [
    "# Create a DataFrame of female drivers stopped for speeding\n",
    "female_and_speeding = df[(df.subject_sex=='female') & (df.reason_for_stop=='Moving Violation')]\n",
    "\n",
    "# Create a DataFrame of male drivers stopped for speeding\n",
    "male_and_speeding = df[(df.subject_sex=='male') & (df.reason_for_stop=='Moving Violation')]"
   ]
  },
  {
   "cell_type": "code",
   "execution_count": 49,
   "metadata": {},
   "outputs": [
    {
     "name": "stdout",
     "output_type": "stream",
     "text": [
      "citation    0.702223\n",
      "warning     0.292296\n",
      "arrest      0.005481\n",
      "Name: outcome, dtype: float64\n",
      "citation    0.687499\n",
      "warning     0.302085\n",
      "arrest      0.010416\n",
      "Name: outcome, dtype: float64\n"
     ]
    }
   ],
   "source": [
    "# Compute the stop outcomes for female drivers (as proportions)\n",
    "print(female_and_speeding.outcome.value_counts(normalize=True))\n",
    "\n",
    "# Compute the stop outcomes for male drivers (as proportions)\n",
    "print(male_and_speeding.outcome.value_counts(normalize=True))"
   ]
  },
  {
   "cell_type": "markdown",
   "metadata": {},
   "source": [
    "Clearly, very few female were arrested compared to male.But about 70% female and 68% male got ticket for speed."
   ]
  },
  {
   "cell_type": "markdown",
   "metadata": {},
   "source": [
    "Now another question. Does the gender affect whose vehicle is searched?"
   ]
  },
  {
   "cell_type": "markdown",
   "metadata": {},
   "source": [
    "Overall, arrests rate:\n",
    "    "
   ]
  },
  {
   "cell_type": "code",
   "execution_count": 51,
   "metadata": {},
   "outputs": [
    {
     "data": {
      "text/plain": [
       "False    0.988256\n",
       "True     0.011744\n",
       "Name: arrest_made, dtype: float64"
      ]
     },
     "execution_count": 51,
     "metadata": {},
     "output_type": "execute_result"
    }
   ],
   "source": [
    "df.arrest_made.value_counts(normalize = True)"
   ]
  },
  {
   "cell_type": "code",
   "execution_count": 52,
   "metadata": {},
   "outputs": [
    {
     "data": {
      "text/plain": [
       "0.011744483990313036"
      ]
     },
     "execution_count": 52,
     "metadata": {},
     "output_type": "execute_result"
    }
   ],
   "source": [
    "df.arrest_made.mean() # wont work unless the dtype is bool"
   ]
  },
  {
   "cell_type": "markdown",
   "metadata": {},
   "source": [
    "#### Area based arrest"
   ]
  },
  {
   "cell_type": "code",
   "execution_count": 54,
   "metadata": {},
   "outputs": [
    {
     "data": {
      "text/plain": [
       "array(['110', '320', '610', '930', '820', '710', '120', '230', '240',\n",
       "       '720', '430', '310', '510', '810', 'Unknown', '440', '830', '520',\n",
       "       '620', '630', '130', '530', '840'], dtype=object)"
      ]
     },
     "execution_count": 54,
     "metadata": {},
     "output_type": "execute_result"
    }
   ],
   "source": [
    "df.service_area.unique()"
   ]
  },
  {
   "cell_type": "code",
   "execution_count": 55,
   "metadata": {},
   "outputs": [
    {
     "data": {
      "text/plain": [
       "0.010811082616784835"
      ]
     },
     "execution_count": 55,
     "metadata": {},
     "output_type": "execute_result"
    }
   ],
   "source": [
    "df[df.service_area=='110'].arrest_made.mean()"
   ]
  },
  {
   "cell_type": "code",
   "execution_count": 57,
   "metadata": {},
   "outputs": [
    {
     "data": {
      "text/plain": [
       "service_area\n",
       "110        0.010811\n",
       "120        0.013237\n",
       "130        0.000000\n",
       "230        0.007178\n",
       "240        0.006391\n",
       "310        0.007791\n",
       "320        0.006744\n",
       "430        0.018186\n",
       "440        0.021990\n",
       "510        0.024510\n",
       "520        0.010577\n",
       "530        0.014760\n",
       "610        0.008176\n",
       "620        0.013047\n",
       "630        0.012270\n",
       "710        0.006311\n",
       "720        0.010007\n",
       "810        0.014318\n",
       "820        0.021443\n",
       "830        0.027717\n",
       "840        0.000000\n",
       "930        0.006615\n",
       "Unknown    0.009582\n",
       "Name: arrest_made, dtype: float64"
      ]
     },
     "execution_count": 57,
     "metadata": {},
     "output_type": "execute_result"
    }
   ],
   "source": [
    "df.groupby('service_area').arrest_made.mean()"
   ]
  },
  {
   "cell_type": "markdown",
   "metadata": {},
   "source": [
    "So, maximum arrested area was 830 and minimum 130."
   ]
  },
  {
   "cell_type": "code",
   "execution_count": 60,
   "metadata": {},
   "outputs": [
    {
     "data": {
      "text/plain": [
       "service_area  subject_sex\n",
       "110           female         0.007668\n",
       "              male           0.012850\n",
       "120           female         0.008860\n",
       "              male           0.015516\n",
       "130           female         0.000000\n",
       "              male           0.000000\n",
       "230           female         0.004208\n",
       "              male           0.009237\n",
       "240           female         0.003039\n",
       "              male           0.008199\n",
       "310           female         0.006433\n",
       "              male           0.008568\n",
       "320           female         0.004549\n",
       "              male           0.008058\n",
       "430           female         0.008371\n",
       "              male           0.023444\n",
       "440           female         0.012288\n",
       "              male           0.026769\n",
       "510           female         0.014255\n",
       "              male           0.028879\n",
       "520           female         0.007496\n",
       "              male           0.011947\n",
       "530           female         0.009434\n",
       "              male           0.018182\n",
       "610           female         0.005495\n",
       "              male           0.009668\n",
       "620           female         0.008002\n",
       "              male           0.016054\n",
       "630           female         0.015385\n",
       "              male           0.010204\n",
       "710           female         0.004707\n",
       "              male           0.007186\n",
       "720           female         0.005289\n",
       "              male           0.012789\n",
       "810           female         0.009924\n",
       "              male           0.016775\n",
       "820           female         0.014874\n",
       "              male           0.024418\n",
       "830           female         0.011696\n",
       "              male           0.034908\n",
       "840           female         0.000000\n",
       "              male           0.000000\n",
       "930           female         0.004439\n",
       "              male           0.007859\n",
       "Unknown       female         0.009139\n",
       "              male           0.009802\n",
       "Name: arrest_made, dtype: float64"
      ]
     },
     "execution_count": 60,
     "metadata": {},
     "output_type": "execute_result"
    }
   ],
   "source": [
    "df.groupby(['service_area','subject_sex']).arrest_made.mean()"
   ]
  },
  {
   "cell_type": "markdown",
   "metadata": {},
   "source": [
    "#### Search Conduct"
   ]
  },
  {
   "cell_type": "code",
   "execution_count": 61,
   "metadata": {},
   "outputs": [
    {
     "name": "stdout",
     "output_type": "stream",
     "text": [
      "bool\n"
     ]
    }
   ],
   "source": [
    "# Check the data type of 'search_conducted'\n",
    "print(df.search_conducted.dtype)"
   ]
  },
  {
   "cell_type": "code",
   "execution_count": 62,
   "metadata": {},
   "outputs": [
    {
     "name": "stdout",
     "output_type": "stream",
     "text": [
      "False    0.962313\n",
      "True     0.037687\n",
      "Name: search_conducted, dtype: float64\n"
     ]
    }
   ],
   "source": [
    "# Calculate the search rate by counting the values\n",
    "print(df.search_conducted.value_counts(normalize=True))"
   ]
  },
  {
   "cell_type": "markdown",
   "metadata": {},
   "source": [
    "About 96% search conduct bears no outcome."
   ]
  },
  {
   "cell_type": "code",
   "execution_count": 64,
   "metadata": {},
   "outputs": [
    {
     "name": "stdout",
     "output_type": "stream",
     "text": [
      "0.037687141770873935\n"
     ]
    }
   ],
   "source": [
    "#calculate the search rate by taking the mean\n",
    "print(df.search_conducted.mean())"
   ]
  },
  {
   "cell_type": "code",
   "execution_count": 67,
   "metadata": {},
   "outputs": [
    {
     "name": "stdout",
     "output_type": "stream",
     "text": [
      "subject_sex\n",
      "female    0.020676\n",
      "male      0.046959\n",
      "Name: search_conducted, dtype: float64\n"
     ]
    }
   ],
   "source": [
    "# Calculate the search rate for both groups simultaneously\n",
    "print(df.groupby('subject_sex').search_conducted.mean())"
   ]
  },
  {
   "cell_type": "markdown",
   "metadata": {},
   "source": [
    "So male drivers are search more than twice as often as female drivers.But Why ?Are males and females searched at about the same rate for each violation?"
   ]
  },
  {
   "cell_type": "code",
   "execution_count": 74,
   "metadata": {},
   "outputs": [
    {
     "name": "stdout",
     "output_type": "stream",
     "text": [
      "outcome   subject_sex\n",
      "arrest    female         0.647428\n",
      "          male           0.817298\n",
      "citation  female         0.019662\n",
      "          male           0.040339\n",
      "warning   female         0.009047\n",
      "          male           0.027989\n",
      "Name: search_conducted, dtype: float64\n"
     ]
    }
   ],
   "source": [
    "# Calculate the search rate for each combination of gender and violation\n",
    "print(df.groupby(['outcome','subject_sex']).search_conducted.mean())"
   ]
  },
  {
   "cell_type": "markdown",
   "metadata": {},
   "source": [
    "For all types of outcome, the search rate is higher for males than females."
   ]
  },
  {
   "cell_type": "markdown",
   "metadata": {},
   "source": [
    "#### Search the person "
   ]
  },
  {
   "cell_type": "code",
   "execution_count": 75,
   "metadata": {},
   "outputs": [
    {
     "data": {
      "text/plain": [
       "0.018811621799500317"
      ]
     },
     "execution_count": 75,
     "metadata": {},
     "output_type": "execute_result"
    }
   ],
   "source": [
    "df.search_person.mean()"
   ]
  },
  {
   "cell_type": "markdown",
   "metadata": {},
   "source": [
    "1% of all traffic stops resulted the subject to be searched by police"
   ]
  },
  {
   "cell_type": "code",
   "execution_count": 79,
   "metadata": {},
   "outputs": [
    {
     "data": {
      "text/plain": [
       "0.39877717391304346"
      ]
     },
     "execution_count": 79,
     "metadata": {},
     "output_type": "execute_result"
    }
   ],
   "source": [
    "person = df[df.search_person == True]\n",
    "person.arrest_made.mean()"
   ]
  },
  {
   "cell_type": "markdown",
   "metadata": {},
   "source": [
    "39% people were arrested while conducting in person search."
   ]
  },
  {
   "cell_type": "markdown",
   "metadata": {},
   "source": [
    "#### Time vs arrest\n",
    "Does time of day affect arrest rate?"
   ]
  },
  {
   "cell_type": "code",
   "execution_count": 81,
   "metadata": {},
   "outputs": [
    {
     "name": "stdout",
     "output_type": "stream",
     "text": [
      "date\n",
      "0     0.016654\n",
      "1     0.043937\n",
      "2     0.054959\n",
      "3     0.038514\n",
      "4     0.022501\n",
      "5     0.008413\n",
      "6     0.012117\n",
      "7     0.007246\n",
      "8     0.004934\n",
      "9     0.006259\n",
      "10    0.005587\n",
      "11    0.006066\n",
      "12    0.003333\n",
      "13    0.005156\n",
      "14    0.005943\n",
      "15    0.010071\n",
      "16    0.010066\n",
      "17    0.011545\n",
      "18    0.014321\n",
      "19    0.013749\n",
      "20    0.015277\n",
      "21    0.014568\n",
      "22    0.015332\n",
      "23    0.022141\n",
      "Name: arrest_made, dtype: float64\n"
     ]
    }
   ],
   "source": [
    "# Calculate the hourly arrest rate\n",
    "print(df.groupby(df.index.hour).arrest_made.mean())"
   ]
  },
  {
   "cell_type": "code",
   "execution_count": 83,
   "metadata": {},
   "outputs": [],
   "source": [
    "# Save the hourly arrest rate\n",
    "hourly_arrest_rate = df.groupby(df.index.hour).arrest_made.mean()"
   ]
  },
  {
   "cell_type": "code",
   "execution_count": 84,
   "metadata": {},
   "outputs": [
    {
     "data": {
      "image/png": "[encoded data removed]",
      "text/plain": [
       "<Figure size 432x288 with 1 Axes>"
      ]
     },
     "metadata": {
      "needs_background": "light"
     },
     "output_type": "display_data"
    }
   ],
   "source": [
    "import matplotlib.pyplot as plt\n",
    "\n",
    "\n",
    "# Create a line plot of 'hourly_arrest_rate'\n",
    "hourly_arrest_rate.plot()\n",
    "\n",
    "# Add the xlabel, ylabel, and title\n",
    "plt.xlabel('Hour')\n",
    "plt.ylabel('Arrest Rate')\n",
    "plt.title('Arrest Rate by Time of Day')\n",
    "\n",
    "# Display the plot\n",
    "plt.show()"
   ]
  },
  {
   "cell_type": "markdown",
   "metadata": {},
   "source": [
    "Clearly, the arrest rate has a significant spike at night and then dips in the early morning hours."
   ]
  },
  {
   "cell_type": "code",
   "execution_count": 86,
   "metadata": {},
   "outputs": [
    {
     "name": "stdout",
     "output_type": "stream",
     "text": [
      "subject_sex             female   male\n",
      "subject_race                         \n",
      "asian/pacific islander   10565  17102\n",
      "black                    10432  24038\n",
      "hispanic                 30969  63281\n",
      "other                     6912  15189\n",
      "white                    51541  82969\n"
     ]
    }
   ],
   "source": [
    "# Create a frequency table of race and gender\n",
    "print(pd.crosstab(df.subject_race, df.subject_sex))"
   ]
  },
  {
   "cell_type": "code",
   "execution_count": 88,
   "metadata": {},
   "outputs": [],
   "source": [
    "table = pd.crosstab(df.subject_race, df.subject_sex)"
   ]
  },
  {
   "cell_type": "code",
   "execution_count": 90,
   "metadata": {},
   "outputs": [
    {
     "data": {
      "text/html": [
       "<div>\n",
       "<style scoped>\n",
       "    .dataframe tbody tr th:only-of-type {\n",
       "        vertical-align: middle;\n",
       "    }\n",
       "\n",
       "    .dataframe tbody tr th {\n",
       "        vertical-align: top;\n",
       "    }\n",
       "\n",
       "    .dataframe thead th {\n",
       "        text-align: right;\n",
       "    }\n",
       "</style>\n",
       "<table border=\"1\" class=\"dataframe\">\n",
       "  <thead>\n",
       "    <tr style=\"text-align: right;\">\n",
       "      <th>subject_sex</th>\n",
       "      <th>female</th>\n",
       "      <th>male</th>\n",
       "    </tr>\n",
       "    <tr>\n",
       "      <th>subject_race</th>\n",
       "      <th></th>\n",
       "      <th></th>\n",
       "    </tr>\n",
       "  </thead>\n",
       "  <tbody>\n",
       "    <tr>\n",
       "      <th>asian/pacific islander</th>\n",
       "      <td>10565</td>\n",
       "      <td>17102</td>\n",
       "    </tr>\n",
       "    <tr>\n",
       "      <th>black</th>\n",
       "      <td>10432</td>\n",
       "      <td>24038</td>\n",
       "    </tr>\n",
       "    <tr>\n",
       "      <th>hispanic</th>\n",
       "      <td>30969</td>\n",
       "      <td>63281</td>\n",
       "    </tr>\n",
       "    <tr>\n",
       "      <th>other</th>\n",
       "      <td>6912</td>\n",
       "      <td>15189</td>\n",
       "    </tr>\n",
       "    <tr>\n",
       "      <th>white</th>\n",
       "      <td>51541</td>\n",
       "      <td>82969</td>\n",
       "    </tr>\n",
       "  </tbody>\n",
       "</table>\n",
       "</div>"
      ],
      "text/plain": [
       "subject_sex             female   male\n",
       "subject_race                         \n",
       "asian/pacific islander   10565  17102\n",
       "black                    10432  24038\n",
       "hispanic                 30969  63281\n",
       "other                     6912  15189\n",
       "white                    51541  82969"
      ]
     },
     "execution_count": 90,
     "metadata": {},
     "output_type": "execute_result"
    }
   ],
   "source": [
    "table.loc[:]"
   ]
  },
  {
   "cell_type": "code",
   "execution_count": 91,
   "metadata": {},
   "outputs": [
    {
     "data": {
      "text/html": [
       "<div>\n",
       "<style scoped>\n",
       "    .dataframe tbody tr th:only-of-type {\n",
       "        vertical-align: middle;\n",
       "    }\n",
       "\n",
       "    .dataframe tbody tr th {\n",
       "        vertical-align: top;\n",
       "    }\n",
       "\n",
       "    .dataframe thead th {\n",
       "        text-align: right;\n",
       "    }\n",
       "</style>\n",
       "<table border=\"1\" class=\"dataframe\">\n",
       "  <thead>\n",
       "    <tr style=\"text-align: right;\">\n",
       "      <th>subject_sex</th>\n",
       "      <th>female</th>\n",
       "      <th>male</th>\n",
       "    </tr>\n",
       "    <tr>\n",
       "      <th>subject_race</th>\n",
       "      <th></th>\n",
       "      <th></th>\n",
       "    </tr>\n",
       "  </thead>\n",
       "  <tbody>\n",
       "    <tr>\n",
       "      <th>black</th>\n",
       "      <td>10432</td>\n",
       "      <td>24038</td>\n",
       "    </tr>\n",
       "    <tr>\n",
       "      <th>hispanic</th>\n",
       "      <td>30969</td>\n",
       "      <td>63281</td>\n",
       "    </tr>\n",
       "    <tr>\n",
       "      <th>other</th>\n",
       "      <td>6912</td>\n",
       "      <td>15189</td>\n",
       "    </tr>\n",
       "    <tr>\n",
       "      <th>white</th>\n",
       "      <td>51541</td>\n",
       "      <td>82969</td>\n",
       "    </tr>\n",
       "  </tbody>\n",
       "</table>\n",
       "</div>"
      ],
      "text/plain": [
       "subject_sex   female   male\n",
       "subject_race               \n",
       "black          10432  24038\n",
       "hispanic       30969  63281\n",
       "other           6912  15189\n",
       "white          51541  82969"
      ]
     },
     "execution_count": 91,
     "metadata": {},
     "output_type": "execute_result"
    }
   ],
   "source": [
    "table.loc['black':'white']"
   ]
  },
  {
   "cell_type": "code",
   "execution_count": 92,
   "metadata": {},
   "outputs": [
    {
     "data": {
      "image/png": "[encoded data removed]",
      "text/plain": [
       "<Figure size 432x288 with 1 Axes>"
      ]
     },
     "metadata": {
      "needs_background": "light"
     },
     "output_type": "display_data"
    }
   ],
   "source": [
    "table.plot(kind = 'bar')\n",
    "plt.show()"
   ]
  },
  {
   "cell_type": "code",
   "execution_count": 93,
   "metadata": {},
   "outputs": [
    {
     "data": {
      "image/png": "[encoded data removed]",
      "text/plain": [
       "<Figure size 432x288 with 1 Axes>"
      ]
     },
     "metadata": {
      "needs_background": "light"
     },
     "output_type": "display_data"
    }
   ],
   "source": [
    "table.plot(kind = 'bar',stacked = True)\n",
    "plt.show()"
   ]
  },
  {
   "cell_type": "code",
   "execution_count": 95,
   "metadata": {},
   "outputs": [],
   "source": [
    "# Save the resulting Series as 'stop_length'\n",
    "stop_length = df.groupby('reason_for_stop').arrest_made.mean()"
   ]
  },
  {
   "cell_type": "code",
   "execution_count": 99,
   "metadata": {},
   "outputs": [
    {
     "data": {
      "image/png": "[encoded data removed]",
      "text/plain": [
       "<Figure size 432x288 with 1 Axes>"
      ]
     },
     "metadata": {
      "needs_background": "light"
     },
     "output_type": "display_data"
    }
   ],
   "source": [
    "# Sort 'stop_length' by its values and create a horizontal bar plot\n",
    "stop_length.sort_values().plot(kind='bar')\n",
    "\n",
    "# Display the plot\n",
    "plt.show()\n"
   ]
  }
 ],
 "metadata": {
  "kernelspec": {
   "display_name": "Python 3",
   "language": "python",
   "name": "python3"
  },
  "language_info": {
   "codemirror_mode": {
    "name": "ipython",
    "version": 3
   },
   "file_extension": ".py",
   "mimetype": "text/x-python",
   "name": "python",
   "nbconvert_exporter": "python",
   "pygments_lexer": "ipython3",
   "version": "3.6.12"
  }
 },
 "nbformat": 4,
 "nbformat_minor": 4
}
