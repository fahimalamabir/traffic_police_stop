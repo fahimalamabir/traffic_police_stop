{
 "cells": [
  {
   "cell_type": "markdown",
   "metadata": {},
   "source": [
    "# Traffic stops by Police in Los Angeles\n",
    "\n",
    "#### Los Angeles\n",
    "We use Stanford Open Policing Project dataset to find out Traffic stops by Police officers in <a href =\"https://stacks.stanford.edu/file/druid:yg821jf8611/yg821jf8611_ca_los_angeles_2020_04_01.csv.zip\">LA </a>. To analysis the dataset, we need to prepare the data.\n",
    "\n",
    "\n",
    "#### Data Processing"
   ]
  },
  {
   "cell_type": "code",
   "execution_count": 1,
   "metadata": {},
   "outputs": [
    {
     "name": "stderr",
     "output_type": "stream",
     "text": [
      "/home/fahim/.local/lib/python3.6/site-packages/IPython/core/interactiveshell.py:3072: DtypeWarning: Columns (3) have mixed types.Specify dtype option on import or set low_memory=False.\n",
      "  interactivity=interactivity, compiler=compiler, result=result)\n"
     ]
    }
   ],
   "source": [
    "import pandas as pd\n",
    "df = pd.read_csv('ca_los_angeles_2020_04_01.csv')"
   ]
  },
  {
   "cell_type": "code",
   "execution_count": 2,
   "metadata": {},
   "outputs": [
    {
     "data": {
      "text/html": [
       "<div>\n",
       "<style scoped>\n",
       "    .dataframe tbody tr th:only-of-type {\n",
       "        vertical-align: middle;\n",
       "    }\n",
       "\n",
       "    .dataframe tbody tr th {\n",
       "        vertical-align: top;\n",
       "    }\n",
       "\n",
       "    .dataframe thead th {\n",
       "        text-align: right;\n",
       "    }\n",
       "</style>\n",
       "<table border=\"1\" class=\"dataframe\">\n",
       "  <thead>\n",
       "    <tr style=\"text-align: right;\">\n",
       "      <th></th>\n",
       "      <th>raw_row_number</th>\n",
       "      <th>date</th>\n",
       "      <th>time</th>\n",
       "      <th>district</th>\n",
       "      <th>region</th>\n",
       "      <th>subject_race</th>\n",
       "      <th>subject_sex</th>\n",
       "      <th>officer_id_hash</th>\n",
       "      <th>type</th>\n",
       "      <th>raw_descent_description</th>\n",
       "    </tr>\n",
       "  </thead>\n",
       "  <tbody>\n",
       "    <tr>\n",
       "      <th>0</th>\n",
       "      <td>5692933</td>\n",
       "      <td>NaN</td>\n",
       "      <td>13:59:00</td>\n",
       "      <td>0753</td>\n",
       "      <td>WILSHIRE</td>\n",
       "      <td>hispanic</td>\n",
       "      <td>male</td>\n",
       "      <td>15ecd81b00</td>\n",
       "      <td>pedestrian</td>\n",
       "      <td>HISPANIC</td>\n",
       "    </tr>\n",
       "    <tr>\n",
       "      <th>1</th>\n",
       "      <td>240731</td>\n",
       "      <td>2010-01-01</td>\n",
       "      <td>00:05:00</td>\n",
       "      <td>665</td>\n",
       "      <td>WEST TRAFFIC</td>\n",
       "      <td>other</td>\n",
       "      <td>male</td>\n",
       "      <td>b707de41e0</td>\n",
       "      <td>vehicular</td>\n",
       "      <td>OTHER</td>\n",
       "    </tr>\n",
       "  </tbody>\n",
       "</table>\n",
       "</div>"
      ],
      "text/plain": [
       "  raw_row_number        date      time district        region subject_race  \\\n",
       "0        5692933         NaN  13:59:00     0753      WILSHIRE     hispanic   \n",
       "1         240731  2010-01-01  00:05:00      665  WEST TRAFFIC        other   \n",
       "\n",
       "  subject_sex officer_id_hash        type raw_descent_description  \n",
       "0        male      15ecd81b00  pedestrian                HISPANIC  \n",
       "1        male      b707de41e0   vehicular                   OTHER  "
      ]
     },
     "execution_count": 2,
     "metadata": {},
     "output_type": "execute_result"
    }
   ],
   "source": [
    "df.head(2)"
   ]
  },
  {
   "cell_type": "markdown",
   "metadata": {},
   "source": [
    "Each row reperesents one traffic stop.We need to locate missing values."
   ]
  },
  {
   "cell_type": "code",
   "execution_count": 3,
   "metadata": {},
   "outputs": [
    {
     "data": {
      "text/html": [
       "<div>\n",
       "<style scoped>\n",
       "    .dataframe tbody tr th:only-of-type {\n",
       "        vertical-align: middle;\n",
       "    }\n",
       "\n",
       "    .dataframe tbody tr th {\n",
       "        vertical-align: top;\n",
       "    }\n",
       "\n",
       "    .dataframe thead th {\n",
       "        text-align: right;\n",
       "    }\n",
       "</style>\n",
       "<table border=\"1\" class=\"dataframe\">\n",
       "  <thead>\n",
       "    <tr style=\"text-align: right;\">\n",
       "      <th></th>\n",
       "      <th>raw_row_number</th>\n",
       "      <th>date</th>\n",
       "      <th>time</th>\n",
       "      <th>district</th>\n",
       "      <th>region</th>\n",
       "      <th>subject_race</th>\n",
       "      <th>subject_sex</th>\n",
       "      <th>officer_id_hash</th>\n",
       "      <th>type</th>\n",
       "      <th>raw_descent_description</th>\n",
       "    </tr>\n",
       "  </thead>\n",
       "  <tbody>\n",
       "    <tr>\n",
       "      <th>0</th>\n",
       "      <td>False</td>\n",
       "      <td>True</td>\n",
       "      <td>False</td>\n",
       "      <td>False</td>\n",
       "      <td>False</td>\n",
       "      <td>False</td>\n",
       "      <td>False</td>\n",
       "      <td>False</td>\n",
       "      <td>False</td>\n",
       "      <td>False</td>\n",
       "    </tr>\n",
       "    <tr>\n",
       "      <th>1</th>\n",
       "      <td>False</td>\n",
       "      <td>False</td>\n",
       "      <td>False</td>\n",
       "      <td>False</td>\n",
       "      <td>False</td>\n",
       "      <td>False</td>\n",
       "      <td>False</td>\n",
       "      <td>False</td>\n",
       "      <td>False</td>\n",
       "      <td>False</td>\n",
       "    </tr>\n",
       "    <tr>\n",
       "      <th>2</th>\n",
       "      <td>False</td>\n",
       "      <td>False</td>\n",
       "      <td>False</td>\n",
       "      <td>False</td>\n",
       "      <td>False</td>\n",
       "      <td>False</td>\n",
       "      <td>False</td>\n",
       "      <td>False</td>\n",
       "      <td>False</td>\n",
       "      <td>False</td>\n",
       "    </tr>\n",
       "    <tr>\n",
       "      <th>3</th>\n",
       "      <td>False</td>\n",
       "      <td>False</td>\n",
       "      <td>False</td>\n",
       "      <td>False</td>\n",
       "      <td>False</td>\n",
       "      <td>False</td>\n",
       "      <td>False</td>\n",
       "      <td>False</td>\n",
       "      <td>False</td>\n",
       "      <td>False</td>\n",
       "    </tr>\n",
       "    <tr>\n",
       "      <th>4</th>\n",
       "      <td>False</td>\n",
       "      <td>False</td>\n",
       "      <td>False</td>\n",
       "      <td>False</td>\n",
       "      <td>False</td>\n",
       "      <td>False</td>\n",
       "      <td>False</td>\n",
       "      <td>False</td>\n",
       "      <td>False</td>\n",
       "      <td>False</td>\n",
       "    </tr>\n",
       "    <tr>\n",
       "      <th>...</th>\n",
       "      <td>...</td>\n",
       "      <td>...</td>\n",
       "      <td>...</td>\n",
       "      <td>...</td>\n",
       "      <td>...</td>\n",
       "      <td>...</td>\n",
       "      <td>...</td>\n",
       "      <td>...</td>\n",
       "      <td>...</td>\n",
       "      <td>...</td>\n",
       "    </tr>\n",
       "    <tr>\n",
       "      <th>5418397</th>\n",
       "      <td>False</td>\n",
       "      <td>False</td>\n",
       "      <td>False</td>\n",
       "      <td>False</td>\n",
       "      <td>False</td>\n",
       "      <td>False</td>\n",
       "      <td>False</td>\n",
       "      <td>False</td>\n",
       "      <td>False</td>\n",
       "      <td>False</td>\n",
       "    </tr>\n",
       "    <tr>\n",
       "      <th>5418398</th>\n",
       "      <td>False</td>\n",
       "      <td>False</td>\n",
       "      <td>False</td>\n",
       "      <td>False</td>\n",
       "      <td>False</td>\n",
       "      <td>False</td>\n",
       "      <td>False</td>\n",
       "      <td>False</td>\n",
       "      <td>False</td>\n",
       "      <td>False</td>\n",
       "    </tr>\n",
       "    <tr>\n",
       "      <th>5418399</th>\n",
       "      <td>False</td>\n",
       "      <td>False</td>\n",
       "      <td>False</td>\n",
       "      <td>False</td>\n",
       "      <td>False</td>\n",
       "      <td>False</td>\n",
       "      <td>False</td>\n",
       "      <td>False</td>\n",
       "      <td>False</td>\n",
       "      <td>False</td>\n",
       "    </tr>\n",
       "    <tr>\n",
       "      <th>5418400</th>\n",
       "      <td>False</td>\n",
       "      <td>False</td>\n",
       "      <td>False</td>\n",
       "      <td>False</td>\n",
       "      <td>False</td>\n",
       "      <td>False</td>\n",
       "      <td>False</td>\n",
       "      <td>False</td>\n",
       "      <td>False</td>\n",
       "      <td>False</td>\n",
       "    </tr>\n",
       "    <tr>\n",
       "      <th>5418401</th>\n",
       "      <td>False</td>\n",
       "      <td>True</td>\n",
       "      <td>False</td>\n",
       "      <td>False</td>\n",
       "      <td>False</td>\n",
       "      <td>False</td>\n",
       "      <td>False</td>\n",
       "      <td>False</td>\n",
       "      <td>False</td>\n",
       "      <td>False</td>\n",
       "    </tr>\n",
       "  </tbody>\n",
       "</table>\n",
       "<p>5418402 rows × 10 columns</p>\n",
       "</div>"
      ],
      "text/plain": [
       "         raw_row_number   date   time  district  region  subject_race  \\\n",
       "0                 False   True  False     False   False         False   \n",
       "1                 False  False  False     False   False         False   \n",
       "2                 False  False  False     False   False         False   \n",
       "3                 False  False  False     False   False         False   \n",
       "4                 False  False  False     False   False         False   \n",
       "...                 ...    ...    ...       ...     ...           ...   \n",
       "5418397           False  False  False     False   False         False   \n",
       "5418398           False  False  False     False   False         False   \n",
       "5418399           False  False  False     False   False         False   \n",
       "5418400           False  False  False     False   False         False   \n",
       "5418401           False   True  False     False   False         False   \n",
       "\n",
       "         subject_sex  officer_id_hash   type  raw_descent_description  \n",
       "0              False            False  False                    False  \n",
       "1              False            False  False                    False  \n",
       "2              False            False  False                    False  \n",
       "3              False            False  False                    False  \n",
       "4              False            False  False                    False  \n",
       "...              ...              ...    ...                      ...  \n",
       "5418397        False            False  False                    False  \n",
       "5418398        False            False  False                    False  \n",
       "5418399        False            False  False                    False  \n",
       "5418400        False            False  False                    False  \n",
       "5418401        False            False  False                    False  \n",
       "\n",
       "[5418402 rows x 10 columns]"
      ]
     },
     "execution_count": 3,
     "metadata": {},
     "output_type": "execute_result"
    }
   ],
   "source": [
    "df.isnull()"
   ]
  },
  {
   "cell_type": "markdown",
   "metadata": {},
   "source": [
    "The existence of true indicates that we have missing data and we can find out how many datas are missing."
   ]
  },
  {
   "cell_type": "code",
   "execution_count": 4,
   "metadata": {},
   "outputs": [
    {
     "data": {
      "text/plain": [
       "raw_row_number                0\n",
       "date                          2\n",
       "time                          0\n",
       "district                      0\n",
       "region                     1911\n",
       "subject_race                  0\n",
       "subject_sex                   0\n",
       "officer_id_hash             161\n",
       "type                          1\n",
       "raw_descent_description       0\n",
       "dtype: int64"
      ]
     },
     "execution_count": 4,
     "metadata": {},
     "output_type": "execute_result"
    }
   ],
   "source": [
    "df.isnull().sum()"
   ]
  },
  {
   "cell_type": "markdown",
   "metadata": {},
   "source": [
    "Checking the dataset size"
   ]
  },
  {
   "cell_type": "code",
   "execution_count": 24,
   "metadata": {},
   "outputs": [
    {
     "data": {
      "text/plain": [
       "(5418402, 10)"
      ]
     },
     "execution_count": 24,
     "metadata": {},
     "output_type": "execute_result"
    }
   ],
   "source": [
    "df.shape"
   ]
  },
  {
   "cell_type": "markdown",
   "metadata": {},
   "source": [
    "Region and officer ID hash has most missing data, so we drop them."
   ]
  },
  {
   "cell_type": "code",
   "execution_count": 7,
   "metadata": {},
   "outputs": [],
   "source": [
    "df.drop(['region', 'officer_id_hash'], axis = 1, inplace = True)"
   ]
  },
  {
   "cell_type": "code",
   "execution_count": 8,
   "metadata": {},
   "outputs": [
    {
     "data": {
      "text/plain": [
       "(5418402, 8)"
      ]
     },
     "execution_count": 8,
     "metadata": {},
     "output_type": "execute_result"
    }
   ],
   "source": [
    "df.shape"
   ]
  },
  {
   "cell_type": "code",
   "execution_count": 9,
   "metadata": {},
   "outputs": [
    {
     "data": {
      "text/plain": [
       "Index(['raw_row_number', 'date', 'time', 'district', 'subject_race',\n",
       "       'subject_sex', 'type', 'raw_descent_description'],\n",
       "      dtype='object')"
      ]
     },
     "execution_count": 9,
     "metadata": {},
     "output_type": "execute_result"
    }
   ],
   "source": [
    "df.columns"
   ]
  },
  {
   "cell_type": "markdown",
   "metadata": {},
   "source": [
    "We still have to deal with missing values in data column and type column. We can drop the rows that contain missing information."
   ]
  },
  {
   "cell_type": "code",
   "execution_count": 10,
   "metadata": {},
   "outputs": [],
   "source": [
    "df.dropna(subset =['date','type'],inplace = True)"
   ]
  },
  {
   "cell_type": "code",
   "execution_count": 12,
   "metadata": {},
   "outputs": [
    {
     "data": {
      "text/plain": [
       "raw_row_number             0\n",
       "date                       0\n",
       "time                       0\n",
       "district                   0\n",
       "subject_race               0\n",
       "subject_sex                0\n",
       "type                       0\n",
       "raw_descent_description    0\n",
       "dtype: int64"
      ]
     },
     "execution_count": 12,
     "metadata": {},
     "output_type": "execute_result"
    }
   ],
   "source": [
    "df.isnull().sum()"
   ]
  },
  {
   "cell_type": "markdown",
   "metadata": {},
   "source": [
    "#### Examining the data types"
   ]
  },
  {
   "cell_type": "code",
   "execution_count": 14,
   "metadata": {},
   "outputs": [
    {
     "data": {
      "text/plain": [
       "raw_row_number             object\n",
       "date                       object\n",
       "time                       object\n",
       "district                   object\n",
       "subject_race               object\n",
       "subject_sex                object\n",
       "type                       object\n",
       "raw_descent_description    object\n",
       "dtype: object"
      ]
     },
     "execution_count": 14,
     "metadata": {},
     "output_type": "execute_result"
    }
   ],
   "source": [
    "df.dtypes"
   ]
  },
  {
   "cell_type": "markdown",
   "metadata": {},
   "source": [
    "Good news is that we have all the data in same format 'object type' (string or other type). But is it good after alll? Looking at the data, we observe that date and time are both object.So we will combine date and time into one column and convert it to datetime format."
   ]
  },
  {
   "cell_type": "code",
   "execution_count": 15,
   "metadata": {},
   "outputs": [],
   "source": [
    "# Concatenate 'date' and 'time' (separated by a space)\n",
    "combined = df.date.str.cat(df.time, sep=' ')"
   ]
  },
  {
   "cell_type": "code",
   "execution_count": 18,
   "metadata": {},
   "outputs": [],
   "source": [
    "# Convert 'combined' to datetime format\n",
    "df['date'] = pd.to_datetime(combined)"
   ]
  },
  {
   "cell_type": "code",
   "execution_count": 19,
   "metadata": {},
   "outputs": [
    {
     "data": {
      "text/html": [
       "<div>\n",
       "<style scoped>\n",
       "    .dataframe tbody tr th:only-of-type {\n",
       "        vertical-align: middle;\n",
       "    }\n",
       "\n",
       "    .dataframe tbody tr th {\n",
       "        vertical-align: top;\n",
       "    }\n",
       "\n",
       "    .dataframe thead th {\n",
       "        text-align: right;\n",
       "    }\n",
       "</style>\n",
       "<table border=\"1\" class=\"dataframe\">\n",
       "  <thead>\n",
       "    <tr style=\"text-align: right;\">\n",
       "      <th></th>\n",
       "      <th>raw_row_number</th>\n",
       "      <th>date</th>\n",
       "      <th>time</th>\n",
       "      <th>district</th>\n",
       "      <th>subject_race</th>\n",
       "      <th>subject_sex</th>\n",
       "      <th>type</th>\n",
       "      <th>raw_descent_description</th>\n",
       "    </tr>\n",
       "  </thead>\n",
       "  <tbody>\n",
       "    <tr>\n",
       "      <th>1</th>\n",
       "      <td>240731</td>\n",
       "      <td>2010-01-01 00:05:00</td>\n",
       "      <td>00:05:00</td>\n",
       "      <td>665</td>\n",
       "      <td>other</td>\n",
       "      <td>male</td>\n",
       "      <td>vehicular</td>\n",
       "      <td>OTHER</td>\n",
       "    </tr>\n",
       "    <tr>\n",
       "      <th>2</th>\n",
       "      <td>240592|240593</td>\n",
       "      <td>2010-01-01 00:10:00</td>\n",
       "      <td>00:10:00</td>\n",
       "      <td>1258</td>\n",
       "      <td>hispanic</td>\n",
       "      <td>male</td>\n",
       "      <td>pedestrian</td>\n",
       "      <td>HISPANIC</td>\n",
       "    </tr>\n",
       "  </tbody>\n",
       "</table>\n",
       "</div>"
      ],
      "text/plain": [
       "  raw_row_number                date      time district subject_race  \\\n",
       "1         240731 2010-01-01 00:05:00  00:05:00      665        other   \n",
       "2  240592|240593 2010-01-01 00:10:00  00:10:00     1258     hispanic   \n",
       "\n",
       "  subject_sex        type raw_descent_description  \n",
       "1        male   vehicular                   OTHER  \n",
       "2        male  pedestrian                HISPANIC  "
      ]
     },
     "execution_count": 19,
     "metadata": {},
     "output_type": "execute_result"
    }
   ],
   "source": [
    "df.head(2)"
   ]
  },
  {
   "cell_type": "code",
   "execution_count": 21,
   "metadata": {},
   "outputs": [
    {
     "name": "stdout",
     "output_type": "stream",
     "text": [
      "raw_row_number                     object\n",
      "date                       datetime64[ns]\n",
      "time                               object\n",
      "district                           object\n",
      "subject_race                       object\n",
      "subject_sex                        object\n",
      "type                               object\n",
      "raw_descent_description            object\n",
      "dtype: object\n"
     ]
    }
   ],
   "source": [
    "# Examine the data types of the DataFrame\n",
    "print(df.dtypes)"
   ]
  },
  {
   "cell_type": "code",
   "execution_count": 22,
   "metadata": {},
   "outputs": [],
   "source": [
    "# Set 'stop_datetime' as the index\n",
    "df.set_index('date', inplace=True)"
   ]
  },
  {
   "cell_type": "code",
   "execution_count": 23,
   "metadata": {},
   "outputs": [
    {
     "data": {
      "text/html": [
       "<div>\n",
       "<style scoped>\n",
       "    .dataframe tbody tr th:only-of-type {\n",
       "        vertical-align: middle;\n",
       "    }\n",
       "\n",
       "    .dataframe tbody tr th {\n",
       "        vertical-align: top;\n",
       "    }\n",
       "\n",
       "    .dataframe thead th {\n",
       "        text-align: right;\n",
       "    }\n",
       "</style>\n",
       "<table border=\"1\" class=\"dataframe\">\n",
       "  <thead>\n",
       "    <tr style=\"text-align: right;\">\n",
       "      <th></th>\n",
       "      <th>raw_row_number</th>\n",
       "      <th>time</th>\n",
       "      <th>district</th>\n",
       "      <th>subject_race</th>\n",
       "      <th>subject_sex</th>\n",
       "      <th>type</th>\n",
       "      <th>raw_descent_description</th>\n",
       "    </tr>\n",
       "    <tr>\n",
       "      <th>date</th>\n",
       "      <th></th>\n",
       "      <th></th>\n",
       "      <th></th>\n",
       "      <th></th>\n",
       "      <th></th>\n",
       "      <th></th>\n",
       "      <th></th>\n",
       "    </tr>\n",
       "  </thead>\n",
       "  <tbody>\n",
       "    <tr>\n",
       "      <th>2010-01-01 00:05:00</th>\n",
       "      <td>240731</td>\n",
       "      <td>00:05:00</td>\n",
       "      <td>665</td>\n",
       "      <td>other</td>\n",
       "      <td>male</td>\n",
       "      <td>vehicular</td>\n",
       "      <td>OTHER</td>\n",
       "    </tr>\n",
       "    <tr>\n",
       "      <th>2010-01-01 00:10:00</th>\n",
       "      <td>240592|240593</td>\n",
       "      <td>00:10:00</td>\n",
       "      <td>1258</td>\n",
       "      <td>hispanic</td>\n",
       "      <td>male</td>\n",
       "      <td>pedestrian</td>\n",
       "      <td>HISPANIC</td>\n",
       "    </tr>\n",
       "    <tr>\n",
       "      <th>2010-01-01 00:10:00</th>\n",
       "      <td>241116</td>\n",
       "      <td>00:10:00</td>\n",
       "      <td>1635</td>\n",
       "      <td>hispanic</td>\n",
       "      <td>male</td>\n",
       "      <td>vehicular</td>\n",
       "      <td>HISPANIC</td>\n",
       "    </tr>\n",
       "    <tr>\n",
       "      <th>2010-01-01 00:15:00</th>\n",
       "      <td>240681</td>\n",
       "      <td>00:15:00</td>\n",
       "      <td>882</td>\n",
       "      <td>other</td>\n",
       "      <td>male</td>\n",
       "      <td>vehicular</td>\n",
       "      <td>OTHER</td>\n",
       "    </tr>\n",
       "    <tr>\n",
       "      <th>2010-01-01 00:20:00</th>\n",
       "      <td>240602</td>\n",
       "      <td>00:20:00</td>\n",
       "      <td>559</td>\n",
       "      <td>hispanic</td>\n",
       "      <td>male</td>\n",
       "      <td>vehicular</td>\n",
       "      <td>HISPANIC</td>\n",
       "    </tr>\n",
       "  </tbody>\n",
       "</table>\n",
       "</div>"
      ],
      "text/plain": [
       "                    raw_row_number      time district subject_race  \\\n",
       "date                                                                 \n",
       "2010-01-01 00:05:00         240731  00:05:00      665        other   \n",
       "2010-01-01 00:10:00  240592|240593  00:10:00     1258     hispanic   \n",
       "2010-01-01 00:10:00         241116  00:10:00     1635     hispanic   \n",
       "2010-01-01 00:15:00         240681  00:15:00      882        other   \n",
       "2010-01-01 00:20:00         240602  00:20:00      559     hispanic   \n",
       "\n",
       "                    subject_sex        type raw_descent_description  \n",
       "date                                                                 \n",
       "2010-01-01 00:05:00        male   vehicular                   OTHER  \n",
       "2010-01-01 00:10:00        male  pedestrian                HISPANIC  \n",
       "2010-01-01 00:10:00        male   vehicular                HISPANIC  \n",
       "2010-01-01 00:15:00        male   vehicular                   OTHER  \n",
       "2010-01-01 00:20:00        male   vehicular                HISPANIC  "
      ]
     },
     "execution_count": 23,
     "metadata": {},
     "output_type": "execute_result"
    }
   ],
   "source": [
    "df.head()"
   ]
  },
  {
   "cell_type": "code",
   "execution_count": 25,
   "metadata": {},
   "outputs": [
    {
     "data": {
      "text/html": [
       "<div>\n",
       "<style scoped>\n",
       "    .dataframe tbody tr th:only-of-type {\n",
       "        vertical-align: middle;\n",
       "    }\n",
       "\n",
       "    .dataframe tbody tr th {\n",
       "        vertical-align: top;\n",
       "    }\n",
       "\n",
       "    .dataframe thead th {\n",
       "        text-align: right;\n",
       "    }\n",
       "</style>\n",
       "<table border=\"1\" class=\"dataframe\">\n",
       "  <thead>\n",
       "    <tr style=\"text-align: right;\">\n",
       "      <th></th>\n",
       "      <th>raw_row_number</th>\n",
       "      <th>time</th>\n",
       "      <th>district</th>\n",
       "      <th>subject_race</th>\n",
       "      <th>subject_sex</th>\n",
       "      <th>type</th>\n",
       "      <th>raw_descent_description</th>\n",
       "    </tr>\n",
       "    <tr>\n",
       "      <th>date</th>\n",
       "      <th></th>\n",
       "      <th></th>\n",
       "      <th></th>\n",
       "      <th></th>\n",
       "      <th></th>\n",
       "      <th></th>\n",
       "      <th></th>\n",
       "    </tr>\n",
       "  </thead>\n",
       "  <tbody>\n",
       "    <tr>\n",
       "      <th>2010-01-01 00:05:00</th>\n",
       "      <td>240731</td>\n",
       "      <td>00:05:00</td>\n",
       "      <td>665</td>\n",
       "      <td>other</td>\n",
       "      <td>male</td>\n",
       "      <td>vehicular</td>\n",
       "      <td>OTHER</td>\n",
       "    </tr>\n",
       "    <tr>\n",
       "      <th>2010-01-01 00:10:00</th>\n",
       "      <td>240592|240593</td>\n",
       "      <td>00:10:00</td>\n",
       "      <td>1258</td>\n",
       "      <td>hispanic</td>\n",
       "      <td>male</td>\n",
       "      <td>pedestrian</td>\n",
       "      <td>HISPANIC</td>\n",
       "    </tr>\n",
       "    <tr>\n",
       "      <th>2010-01-01 00:10:00</th>\n",
       "      <td>241116</td>\n",
       "      <td>00:10:00</td>\n",
       "      <td>1635</td>\n",
       "      <td>hispanic</td>\n",
       "      <td>male</td>\n",
       "      <td>vehicular</td>\n",
       "      <td>HISPANIC</td>\n",
       "    </tr>\n",
       "    <tr>\n",
       "      <th>2010-01-01 00:15:00</th>\n",
       "      <td>240681</td>\n",
       "      <td>00:15:00</td>\n",
       "      <td>882</td>\n",
       "      <td>other</td>\n",
       "      <td>male</td>\n",
       "      <td>vehicular</td>\n",
       "      <td>OTHER</td>\n",
       "    </tr>\n",
       "    <tr>\n",
       "      <th>2010-01-01 00:20:00</th>\n",
       "      <td>240602</td>\n",
       "      <td>00:20:00</td>\n",
       "      <td>559</td>\n",
       "      <td>hispanic</td>\n",
       "      <td>male</td>\n",
       "      <td>vehicular</td>\n",
       "      <td>HISPANIC</td>\n",
       "    </tr>\n",
       "    <tr>\n",
       "      <th>...</th>\n",
       "      <td>...</td>\n",
       "      <td>...</td>\n",
       "      <td>...</td>\n",
       "      <td>...</td>\n",
       "      <td>...</td>\n",
       "      <td>...</td>\n",
       "      <td>...</td>\n",
       "    </tr>\n",
       "    <tr>\n",
       "      <th>2017-12-31 23:54:00</th>\n",
       "      <td>6132737</td>\n",
       "      <td>23:54:00</td>\n",
       "      <td>1273</td>\n",
       "      <td>hispanic</td>\n",
       "      <td>male</td>\n",
       "      <td>vehicular</td>\n",
       "      <td>HISPANIC</td>\n",
       "    </tr>\n",
       "    <tr>\n",
       "      <th>2017-12-31 23:55:00</th>\n",
       "      <td>6135479</td>\n",
       "      <td>23:55:00</td>\n",
       "      <td>0646</td>\n",
       "      <td>hispanic</td>\n",
       "      <td>male</td>\n",
       "      <td>pedestrian</td>\n",
       "      <td>HISPANIC</td>\n",
       "    </tr>\n",
       "    <tr>\n",
       "      <th>2017-12-31 23:55:00</th>\n",
       "      <td>6134247</td>\n",
       "      <td>23:55:00</td>\n",
       "      <td>2134</td>\n",
       "      <td>hispanic</td>\n",
       "      <td>male</td>\n",
       "      <td>vehicular</td>\n",
       "      <td>HISPANIC</td>\n",
       "    </tr>\n",
       "    <tr>\n",
       "      <th>2017-12-31 23:57:00</th>\n",
       "      <td>6135064|6135065|6135066|6135067</td>\n",
       "      <td>23:57:00</td>\n",
       "      <td>1806</td>\n",
       "      <td>black</td>\n",
       "      <td>male</td>\n",
       "      <td>pedestrian</td>\n",
       "      <td>BLACK</td>\n",
       "    </tr>\n",
       "    <tr>\n",
       "      <th>2017-12-31 23:58:00</th>\n",
       "      <td>6135276</td>\n",
       "      <td>23:58:00</td>\n",
       "      <td>1362</td>\n",
       "      <td>black</td>\n",
       "      <td>male</td>\n",
       "      <td>pedestrian</td>\n",
       "      <td>BLACK</td>\n",
       "    </tr>\n",
       "  </tbody>\n",
       "</table>\n",
       "<p>5418399 rows × 7 columns</p>\n",
       "</div>"
      ],
      "text/plain": [
       "                                      raw_row_number      time district  \\\n",
       "date                                                                      \n",
       "2010-01-01 00:05:00                           240731  00:05:00      665   \n",
       "2010-01-01 00:10:00                    240592|240593  00:10:00     1258   \n",
       "2010-01-01 00:10:00                           241116  00:10:00     1635   \n",
       "2010-01-01 00:15:00                           240681  00:15:00      882   \n",
       "2010-01-01 00:20:00                           240602  00:20:00      559   \n",
       "...                                              ...       ...      ...   \n",
       "2017-12-31 23:54:00                          6132737  23:54:00     1273   \n",
       "2017-12-31 23:55:00                          6135479  23:55:00     0646   \n",
       "2017-12-31 23:55:00                          6134247  23:55:00     2134   \n",
       "2017-12-31 23:57:00  6135064|6135065|6135066|6135067  23:57:00     1806   \n",
       "2017-12-31 23:58:00                          6135276  23:58:00     1362   \n",
       "\n",
       "                    subject_race subject_sex        type  \\\n",
       "date                                                       \n",
       "2010-01-01 00:05:00        other        male   vehicular   \n",
       "2010-01-01 00:10:00     hispanic        male  pedestrian   \n",
       "2010-01-01 00:10:00     hispanic        male   vehicular   \n",
       "2010-01-01 00:15:00        other        male   vehicular   \n",
       "2010-01-01 00:20:00     hispanic        male   vehicular   \n",
       "...                          ...         ...         ...   \n",
       "2017-12-31 23:54:00     hispanic        male   vehicular   \n",
       "2017-12-31 23:55:00     hispanic        male  pedestrian   \n",
       "2017-12-31 23:55:00     hispanic        male   vehicular   \n",
       "2017-12-31 23:57:00        black        male  pedestrian   \n",
       "2017-12-31 23:58:00        black        male  pedestrian   \n",
       "\n",
       "                    raw_descent_description  \n",
       "date                                         \n",
       "2010-01-01 00:05:00                   OTHER  \n",
       "2010-01-01 00:10:00                HISPANIC  \n",
       "2010-01-01 00:10:00                HISPANIC  \n",
       "2010-01-01 00:15:00                   OTHER  \n",
       "2010-01-01 00:20:00                HISPANIC  \n",
       "...                                     ...  \n",
       "2017-12-31 23:54:00                HISPANIC  \n",
       "2017-12-31 23:55:00                HISPANIC  \n",
       "2017-12-31 23:55:00                HISPANIC  \n",
       "2017-12-31 23:57:00                   BLACK  \n",
       "2017-12-31 23:58:00                   BLACK  \n",
       "\n",
       "[5418399 rows x 7 columns]"
      ]
     },
     "execution_count": 25,
     "metadata": {},
     "output_type": "execute_result"
    }
   ],
   "source": [
    "df"
   ]
  },
  {
   "cell_type": "code",
   "execution_count": 26,
   "metadata": {},
   "outputs": [],
   "source": [
    "df.drop('time', axis = 1, inplace = True)"
   ]
  },
  {
   "cell_type": "code",
   "execution_count": 28,
   "metadata": {},
   "outputs": [
    {
     "data": {
      "text/html": [
       "<div>\n",
       "<style scoped>\n",
       "    .dataframe tbody tr th:only-of-type {\n",
       "        vertical-align: middle;\n",
       "    }\n",
       "\n",
       "    .dataframe tbody tr th {\n",
       "        vertical-align: top;\n",
       "    }\n",
       "\n",
       "    .dataframe thead th {\n",
       "        text-align: right;\n",
       "    }\n",
       "</style>\n",
       "<table border=\"1\" class=\"dataframe\">\n",
       "  <thead>\n",
       "    <tr style=\"text-align: right;\">\n",
       "      <th></th>\n",
       "      <th>raw_row_number</th>\n",
       "      <th>district</th>\n",
       "      <th>subject_race</th>\n",
       "      <th>subject_sex</th>\n",
       "      <th>type</th>\n",
       "      <th>raw_descent_description</th>\n",
       "    </tr>\n",
       "    <tr>\n",
       "      <th>date</th>\n",
       "      <th></th>\n",
       "      <th></th>\n",
       "      <th></th>\n",
       "      <th></th>\n",
       "      <th></th>\n",
       "      <th></th>\n",
       "    </tr>\n",
       "  </thead>\n",
       "  <tbody>\n",
       "    <tr>\n",
       "      <th>2010-01-01 00:05:00</th>\n",
       "      <td>240731</td>\n",
       "      <td>665</td>\n",
       "      <td>other</td>\n",
       "      <td>male</td>\n",
       "      <td>vehicular</td>\n",
       "      <td>OTHER</td>\n",
       "    </tr>\n",
       "    <tr>\n",
       "      <th>2010-01-01 00:10:00</th>\n",
       "      <td>240592|240593</td>\n",
       "      <td>1258</td>\n",
       "      <td>hispanic</td>\n",
       "      <td>male</td>\n",
       "      <td>pedestrian</td>\n",
       "      <td>HISPANIC</td>\n",
       "    </tr>\n",
       "  </tbody>\n",
       "</table>\n",
       "</div>"
      ],
      "text/plain": [
       "                    raw_row_number district subject_race subject_sex  \\\n",
       "date                                                                   \n",
       "2010-01-01 00:05:00         240731      665        other        male   \n",
       "2010-01-01 00:10:00  240592|240593     1258     hispanic        male   \n",
       "\n",
       "                           type raw_descent_description  \n",
       "date                                                     \n",
       "2010-01-01 00:05:00   vehicular                   OTHER  \n",
       "2010-01-01 00:10:00  pedestrian                HISPANIC  "
      ]
     },
     "execution_count": 28,
     "metadata": {},
     "output_type": "execute_result"
    }
   ],
   "source": [
    "df.head(2)"
   ]
  },
  {
   "cell_type": "markdown",
   "metadata": {},
   "source": [
    "#### Race based crime"
   ]
  },
  {
   "cell_type": "code",
   "execution_count": 30,
   "metadata": {},
   "outputs": [
    {
     "name": "stdout",
     "output_type": "stream",
     "text": [
      "hispanic                  2301825\n",
      "black                     1297883\n",
      "white                     1275788\n",
      "other                      337342\n",
      "asian/pacific islander     205561\n",
      "Name: subject_race, dtype: int64\n"
     ]
    }
   ],
   "source": [
    "print(df.subject_race.value_counts())"
   ]
  },
  {
   "cell_type": "code",
   "execution_count": 32,
   "metadata": {},
   "outputs": [
    {
     "data": {
      "text/plain": [
       "(1275788, 6)"
      ]
     },
     "execution_count": 32,
     "metadata": {},
     "output_type": "execute_result"
    }
   ],
   "source": [
    "white = df[df.subject_race == 'white']\n",
    "white.shape"
   ]
  },
  {
   "cell_type": "code",
   "execution_count": 33,
   "metadata": {},
   "outputs": [
    {
     "data": {
      "text/plain": [
       "vehicular     0.807409\n",
       "pedestrian    0.192591\n",
       "Name: type, dtype: float64"
      ]
     },
     "execution_count": 33,
     "metadata": {},
     "output_type": "execute_result"
    }
   ],
   "source": [
    "white.type.value_counts(normalize=True)"
   ]
  },
  {
   "cell_type": "code",
   "execution_count": 34,
   "metadata": {},
   "outputs": [
    {
     "data": {
      "text/plain": [
       "vehicular     0.678953\n",
       "pedestrian    0.321047\n",
       "Name: type, dtype: float64"
      ]
     },
     "execution_count": 34,
     "metadata": {},
     "output_type": "execute_result"
    }
   ],
   "source": [
    "black = df[df.subject_race == 'black']\n",
    "black.type.value_counts(normalize=True)"
   ]
  },
  {
   "cell_type": "code",
   "execution_count": 35,
   "metadata": {},
   "outputs": [
    {
     "data": {
      "text/plain": [
       "vehicular     0.752602\n",
       "pedestrian    0.247398\n",
       "Name: type, dtype: float64"
      ]
     },
     "execution_count": 35,
     "metadata": {},
     "output_type": "execute_result"
    }
   ],
   "source": [
    "hispanic = df[df.subject_race == 'hispanic']\n",
    "hispanic.type.value_counts(normalize=True)"
   ]
  },
  {
   "cell_type": "code",
   "execution_count": 36,
   "metadata": {},
   "outputs": [
    {
     "data": {
      "text/plain": [
       "vehicular     0.901681\n",
       "pedestrian    0.098319\n",
       "Name: type, dtype: float64"
      ]
     },
     "execution_count": 36,
     "metadata": {},
     "output_type": "execute_result"
    }
   ],
   "source": [
    "other = df[df.subject_race == 'other']\n",
    "other.type.value_counts(normalize=True)"
   ]
  },
  {
   "cell_type": "code",
   "execution_count": 37,
   "metadata": {},
   "outputs": [
    {
     "data": {
      "text/plain": [
       "vehicular     0.912308\n",
       "pedestrian    0.087692\n",
       "Name: type, dtype: float64"
      ]
     },
     "execution_count": 37,
     "metadata": {},
     "output_type": "execute_result"
    }
   ],
   "source": [
    "misc = df[df.subject_race == 'asian/pacific islander']\n",
    "misc.type.value_counts(normalize=True)"
   ]
  },
  {
   "cell_type": "markdown",
   "metadata": {},
   "source": [
    "Overall results of raced based studies,\n",
    "\n",
    "\n",
    "| Race | Vehicular | Pedestrian |\n",
    "| --- | --- | --- |\n",
    "| Hispanice | 75% | 25% |\n",
    "| White     | 80% | 20% |\n",
    "| Other     | 90% | 10% |\n",
    "| Asian     | 91% | 9%  |"
   ]
  },
  {
   "cell_type": "markdown",
   "metadata": {},
   "source": [
    "#### Gender based Studies"
   ]
  },
  {
   "cell_type": "code",
   "execution_count": 38,
   "metadata": {},
   "outputs": [
    {
     "name": "stdout",
     "output_type": "stream",
     "text": [
      "male      3861190\n",
      "female    1557209\n",
      "Name: subject_sex, dtype: int64\n"
     ]
    }
   ],
   "source": [
    "print(df.subject_sex.value_counts())"
   ]
  },
  {
   "cell_type": "code",
   "execution_count": 39,
   "metadata": {},
   "outputs": [],
   "source": [
    "# Create a DataFrame of female drivers\n",
    "female = df[df.subject_sex=='female']\n",
    "\n",
    "# Create a DataFrame of male drivers\n",
    "male = df[df.subject_sex=='male']"
   ]
  },
  {
   "cell_type": "code",
   "execution_count": 40,
   "metadata": {},
   "outputs": [
    {
     "name": "stdout",
     "output_type": "stream",
     "text": [
      "vehicular     0.729301\n",
      "pedestrian    0.270699\n",
      "Name: type, dtype: float64\n"
     ]
    }
   ],
   "source": [
    "# Compute the violations by male (as proportions)\n",
    "print(male.type.value_counts(normalize=True))\n"
   ]
  },
  {
   "cell_type": "code",
   "execution_count": 41,
   "metadata": {},
   "outputs": [
    {
     "name": "stdout",
     "output_type": "stream",
     "text": [
      "vehicular     0.847275\n",
      "pedestrian    0.152725\n",
      "Name: type, dtype: float64\n"
     ]
    }
   ],
   "source": [
    "# Compute the violations by female (as proportions)\n",
    "print(female.type.value_counts(normalize=True))"
   ]
  },
  {
   "cell_type": "markdown",
   "metadata": {},
   "source": [
    "Overall results of raced based studies,\n",
    "\n",
    "\n",
    "| Gender | Vehicular | Pedestrian |\n",
    "| --- | --- | --- |\n",
    "| Female | 85% | 15% |\n",
    "| Male    | 72% | 28% |\n"
   ]
  },
  {
   "cell_type": "markdown",
   "metadata": {},
   "source": [
    "#### Correlation of Gender and Race"
   ]
  },
  {
   "cell_type": "code",
   "execution_count": 43,
   "metadata": {},
   "outputs": [],
   "source": [
    "# Create a DataFrame of female\n",
    "asian_female = df[(df.subject_sex=='female') & (df.subject_race=='asian/pacific islander')]\n",
    "\n",
    "# Create a DataFrame of male \n",
    "asian_male = df[(df.subject_sex=='male') & (df.subject_race=='asian/pacific islander')]"
   ]
  },
  {
   "cell_type": "code",
   "execution_count": 44,
   "metadata": {},
   "outputs": [
    {
     "name": "stdout",
     "output_type": "stream",
     "text": [
      "vehicular     0.922836\n",
      "pedestrian    0.077164\n",
      "Name: type, dtype: float64\n"
     ]
    }
   ],
   "source": [
    "# Compute the violations by asian female (as proportions)\n",
    "print(asian_female.type.value_counts(normalize=True))"
   ]
  },
  {
   "cell_type": "code",
   "execution_count": 45,
   "metadata": {},
   "outputs": [
    {
     "name": "stdout",
     "output_type": "stream",
     "text": [
      "vehicular     0.90551\n",
      "pedestrian    0.09449\n",
      "Name: type, dtype: float64\n"
     ]
    }
   ],
   "source": [
    "# Compute the violations by asian female (as proportions)\n",
    "print(asian_male.type.value_counts(normalize=True))"
   ]
  },
  {
   "cell_type": "code",
   "execution_count": 46,
   "metadata": {},
   "outputs": [
    {
     "name": "stdout",
     "output_type": "stream",
     "text": [
      "vehicular     0.851749\n",
      "pedestrian    0.148251\n",
      "Name: type, dtype: float64\n",
      "vehicular     0.720875\n",
      "pedestrian    0.279125\n",
      "Name: type, dtype: float64\n"
     ]
    }
   ],
   "source": [
    "# Create a DataFrame of female\n",
    "hispanic_female = df[(df.subject_sex=='female') & (df.subject_race=='hispanic')]\n",
    "\n",
    "# Create a DataFrame of male \n",
    "hispanic_male = df[(df.subject_sex=='male') & (df.subject_race=='hispanic')]\n",
    "# Compute the violations by  female (as proportions)\n",
    "print(hispanic_female.type.value_counts(normalize=True))\n",
    "print(hispanic_male.type.value_counts(normalize=True))"
   ]
  },
  {
   "cell_type": "code",
   "execution_count": 47,
   "metadata": {},
   "outputs": [
    {
     "name": "stdout",
     "output_type": "stream",
     "text": [
      "vehicular     0.863704\n",
      "pedestrian    0.136296\n",
      "Name: type, dtype: float64\n",
      "vehicular     0.807409\n",
      "pedestrian    0.192591\n",
      "Name: type, dtype: float64\n"
     ]
    }
   ],
   "source": [
    "# Create a DataFrame of female\n",
    "white_female = df[(df.subject_sex=='female') & (df.subject_race=='white')]\n",
    "\n",
    "# Create a DataFrame of male \n",
    "white_male = df[(df.subject_sex=='male') & (df.subject_race=='white')]\n",
    "# Compute the violations by afemale (as proportions)\n",
    "print(white_female.type.value_counts(normalize=True))\n",
    "print(white.type.value_counts(normalize=True))"
   ]
  },
  {
   "cell_type": "code",
   "execution_count": 48,
   "metadata": {},
   "outputs": [
    {
     "name": "stdout",
     "output_type": "stream",
     "text": [
      "vehicular     0.782769\n",
      "pedestrian    0.217231\n",
      "Name: type, dtype: float64\n",
      "vehicular     0.678953\n",
      "pedestrian    0.321047\n",
      "Name: type, dtype: float64\n"
     ]
    }
   ],
   "source": [
    "# Create a DataFrame of female\n",
    "black_female = df[(df.subject_sex=='female') & (df.subject_race=='black')]\n",
    "\n",
    "# Create a DataFrame of male \n",
    "black_male = df[(df.subject_sex=='male') & (df.subject_race=='black')]\n",
    "# Compute the violations by a female (as proportions)\n",
    "print(black_female.type.value_counts(normalize=True))\n",
    "print(black.type.value_counts(normalize=True))"
   ]
  },
  {
   "cell_type": "code",
   "execution_count": 49,
   "metadata": {},
   "outputs": [
    {
     "name": "stdout",
     "output_type": "stream",
     "text": [
      "vehicular     0.924577\n",
      "pedestrian    0.075423\n",
      "Name: type, dtype: float64\n",
      "vehicular     0.901681\n",
      "pedestrian    0.098319\n",
      "Name: type, dtype: float64\n"
     ]
    }
   ],
   "source": [
    "# Create a DataFrame of female\n",
    "other_female = df[(df.subject_sex=='female') & (df.subject_race=='other')]\n",
    "\n",
    "# Create a DataFrame of male \n",
    "other_male = df[(df.subject_sex=='male') & (df.subject_race=='other')]\n",
    "# Compute the violations by afemale (as proportions)\n",
    "print(other_female.type.value_counts(normalize=True))\n",
    "print(other.type.value_counts(normalize=True))"
   ]
  },
  {
   "cell_type": "markdown",
   "metadata": {},
   "source": [
    "Overall results of raced based studies,\n",
    "\n",
    "\n",
    "|Race| Gender | Vehicular | Pedestrian |\n",
    "|--- | --- | --- | --- |\n",
    "|Asian| Female | 93% | 7% |\n",
    "|  Asian   | Male    | 91% | 9% |\n",
    "White| Female | 87% | 13% |\n",
    "| White    | Male    | 80% | 20% |\n",
    "Black| Female | 78% | 22% |\n",
    "|Black     | Male    | 67% | 33% |\n",
    "Hispanic| Female | 85% | 15% |\n",
    "|     Hispanic| Male    | 77% | 23% |\n",
    "Others| Female | 92% | 78% |\n",
    "|    Others | Male    | 90% | 10% |\n",
    "\n"
   ]
  }
 ],
 "metadata": {
  "kernelspec": {
   "display_name": "myenv",
   "language": "python",
   "name": "myenv"
  },
  "language_info": {
   "codemirror_mode": {
    "name": "ipython",
    "version": 3
   },
   "file_extension": ".py",
   "mimetype": "text/x-python",
   "name": "python",
   "nbconvert_exporter": "python",
   "pygments_lexer": "ipython3",
   "version": "3.6.12"
  }
 },
 "nbformat": 4,
 "nbformat_minor": 4
}
